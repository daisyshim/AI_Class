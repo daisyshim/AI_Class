{
 "cells": [
  {
   "cell_type": "code",
   "execution_count": 9,
   "id": "c5120f84-a1ea-4060-9ed5-40261dc811a9",
   "metadata": {},
   "outputs": [],
   "source": [
    "건물셋 = '지자체_건물_전처리.csv'\n",
    "가점척도 = '건물가점_전처리.csv'"
   ]
  },
  {
   "cell_type": "code",
   "execution_count": 11,
   "id": "5d2f54f1-1d0d-489d-8c05-1bd45bf9bff6",
   "metadata": {},
   "outputs": [
    {
     "ename": "SyntaxError",
     "evalue": "keyword argument repeated (<ipython-input-11-c6ee76094bfa>, line 3)",
     "output_type": "error",
     "traceback": [
      "\u001b[1;36m  File \u001b[1;32m\"<ipython-input-11-c6ee76094bfa>\"\u001b[1;36m, line \u001b[1;32m3\u001b[0m\n\u001b[1;33m    A= pd.read_csv(f'{건물셋}', header = 0, encoding = 'cp949', encoding = 'python')\u001b[0m\n\u001b[1;37m                                                                   ^\u001b[0m\n\u001b[1;31mSyntaxError\u001b[0m\u001b[1;31m:\u001b[0m keyword argument repeated\n"
     ]
    }
   ],
   "source": [
    "import pandas as pd\n",
    "\n",
    "건물 = pd.read_csv(f'{건물셋}', header = 0, encoding = 'cp949', encoding = 'python')\n",
    "\n",
    "가점 = pd.read_csv(f'{가점척도}', header=0, encoding='cp949', engine='python')\n",
    "\n",
    "건물.rename(columns = {'BDTYP_CD' : '건물용도코드'}, inplace = True)\n",
    "건물.rename(columns = {'BUL_MAN_NO' : '건물일련번호'}, inplace = True)\n",
    "건물.rename(columns = {'GRO_FLO_CO' : '지상층수'}, inplace = True)\n",
    "display(건물.head(2))\n",
    "display(가점.head(2))"
   ]
  },
  {
   "cell_type": "code",
   "execution_count": 5,
   "id": "f6b0ce22-1458-452f-bb25-e847d025b32e",
   "metadata": {},
   "outputs": [
    {
     "ename": "NameError",
     "evalue": "name '건물' is not defined",
     "output_type": "error",
     "traceback": [
      "\u001b[1;31m---------------------------------------------------------------------------\u001b[0m",
      "\u001b[1;31mNameError\u001b[0m                                 Traceback (most recent call last)",
      "\u001b[1;32m<ipython-input-5-3068efc50a6d>\u001b[0m in \u001b[0;36m<module>\u001b[1;34m\u001b[0m\n\u001b[1;32m----> 1\u001b[1;33m \u001b[0mmerged\u001b[0m \u001b[1;33m=\u001b[0m \u001b[0m건물\u001b[0m\u001b[1;33m.\u001b[0m\u001b[0mmerge\u001b[0m\u001b[1;33m(\u001b[0m\u001b[0m가점\u001b[0m\u001b[1;33m,\u001b[0m \u001b[0mon\u001b[0m \u001b[1;33m=\u001b[0m \u001b[1;34m'건물용도코드'\u001b[0m\u001b[1;33m)\u001b[0m\u001b[1;33m\u001b[0m\u001b[1;33m\u001b[0m\u001b[0m\n\u001b[0m\u001b[0;32m      2\u001b[0m \u001b[0mmerged\u001b[0m \u001b[1;33m=\u001b[0m \u001b[0mmerged\u001b[0m\u001b[1;33m[\u001b[0m\u001b[1;33m[\u001b[0m\u001b[1;34m'건물용도코드'\u001b[0m\u001b[1;33m,\u001b[0m \u001b[1;34m'건물종류'\u001b[0m\u001b[1;33m,\u001b[0m \u001b[1;34m'건물일련번호'\u001b[0m\u001b[1;33m,\u001b[0m \u001b[1;34m'가점척도'\u001b[0m\u001b[1;33m,\u001b[0m \u001b[1;34m'경도'\u001b[0m\u001b[1;33m,\u001b[0m \u001b[1;34m'위도'\u001b[0m\u001b[1;33m]\u001b[0m\u001b[1;33m]\u001b[0m\u001b[1;33m\u001b[0m\u001b[1;33m\u001b[0m\u001b[0m\n\u001b[0;32m      3\u001b[0m \u001b[0mmerged\u001b[0m\u001b[1;33m.\u001b[0m\u001b[0mhead\u001b[0m\u001b[1;33m(\u001b[0m\u001b[1;36m2\u001b[0m\u001b[1;33m)\u001b[0m\u001b[1;33m\u001b[0m\u001b[1;33m\u001b[0m\u001b[0m\n",
      "\u001b[1;31mNameError\u001b[0m: name '건물' is not defined"
     ]
    }
   ],
   "source": [
    "merged = 건물.merge(가점, on = '건물용도코드')\n",
    "merged = merged[['건물용도코드', '건물종류', '건물일련번호', '가점척도', '경도', '위도']]\n",
    "merged.head(2)"
   ]
  },
  {
   "cell_type": "code",
   "execution_count": 6,
   "id": "8b40aee4-3e4b-42c8-a818-f975ecb7be69",
   "metadata": {},
   "outputs": [
    {
     "ename": "SyntaxError",
     "evalue": "invalid syntax (<ipython-input-6-bafae73c9d1e>, line 6)",
     "output_type": "error",
     "traceback": [
      "\u001b[1;36m  File \u001b[1;32m\"<ipython-input-6-bafae73c9d1e>\"\u001b[1;36m, line \u001b[1;32m6\u001b[0m\n\u001b[1;33m    bd[i].to_csv(f'건물'{i}.csv', index=False, sep=\",\", encoding='cp949')\u001b[0m\n\u001b[1;37m                      ^\u001b[0m\n\u001b[1;31mSyntaxError\u001b[0m\u001b[1;31m:\u001b[0m invalid syntax\n"
     ]
    }
   ],
   "source": [
    "가점갯수 = len(merge['가점척도'], unique())\n",
    "bd = [None] + 가점갯수\n",
    "\n",
    "for i in range(가점갯수):\n",
    "    bd[i] = merged[merged['가점척도'] == i]\n",
    "    bd[i].to_csv(f'건물{i}.csv', index=False, sep=\",\", encoding='cp949')\n",
    "    display (bd[i].iloc[[0]])\n",
    "\n",
    "for i inn range(가점갯수):\n",
    "    print(f\"{i}점 건물수:\", len(bd[i]))\n"
   ]
  },
  {
   "cell_type": "code",
   "execution_count": null,
   "id": "b7a6b7a7-fa5a-4330-94a9-d542fa14cdad",
   "metadata": {},
   "outputs": [],
   "source": []
  }
 ],
 "metadata": {
  "kernelspec": {
   "display_name": "Python 3",
   "language": "python",
   "name": "python3"
  },
  "language_info": {
   "codemirror_mode": {
    "name": "ipython",
    "version": 3
   },
   "file_extension": ".py",
   "mimetype": "text/x-python",
   "name": "python",
   "nbconvert_exporter": "python",
   "pygments_lexer": "ipython3",
   "version": "3.8.8"
  }
 },
 "nbformat": 4,
 "nbformat_minor": 5
}
