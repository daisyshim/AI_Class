{
 "cells": [
  {
   "cell_type": "code",
   "execution_count": 11,
   "id": "03a9056d-698b-49d9-a73f-a1a0482cc4a2",
   "metadata": {},
   "outputs": [],
   "source": [
    "class Rect:\n",
    "    def __init__(self, width, height):\n",
    "        self.width=width\n",
    "        self.height=height\n",
    "        \n",
    "    def area(self):\n",
    "        return self.width*self.height"
   ]
  },
  {
   "cell_type": "code",
   "execution_count": 12,
   "id": "2d11083a-59f8-4b58-981c-669af492c906",
   "metadata": {},
   "outputs": [
    {
     "name": "stdout",
     "output_type": "stream",
     "text": [
      "100 20 2000\n"
     ]
    }
   ],
   "source": [
    "r=Rect(100,20)\n",
    "print(r.width, r.height, r.area())\n",
    "\n",
    "class Square(Rect):\n",
    "    def __init__(self, width):\n",
    "        super().__init__(width, width)\n",
    "    "
   ]
  },
  {
   "cell_type": "code",
   "execution_count": null,
   "id": "eb38eac8-e862-4e14-916f-1eebe33b1ef7",
   "metadata": {},
   "outputs": [],
   "source": []
  },
  {
   "cell_type": "code",
   "execution_count": 13,
   "id": "a19f86cf-9b38-479f-8504-7ea1d5ebefc5",
   "metadata": {},
   "outputs": [],
   "source": [
    "#웹 페이지를 추출할대는 표준 라이브러리 사용. "
   ]
  },
  {
   "cell_type": "code",
   "execution_count": null,
   "id": "b47f3eb8-be5b-46ec-99f4-0db10ef55505",
   "metadata": {},
   "outputs": [],
   "source": []
  },
  {
   "cell_type": "code",
   "execution_count": 14,
   "id": "cca91015-cf63-4f7e-8fb5-bdc5d98e6e22",
   "metadata": {},
   "outputs": [],
   "source": [
    "from urllib.request import urlopen"
   ]
  },
  {
   "cell_type": "code",
   "execution_count": null,
   "id": "fecdc6b5-3ec6-4fe3-ad3c-d12a487ace75",
   "metadata": {},
   "outputs": [],
   "source": []
  }
 ],
 "metadata": {
  "kernelspec": {
   "display_name": "Python 3",
   "language": "python",
   "name": "python3"
  },
  "language_info": {
   "codemirror_mode": {
    "name": "ipython",
    "version": 3
   },
   "file_extension": ".py",
   "mimetype": "text/x-python",
   "name": "python",
   "nbconvert_exporter": "python",
   "pygments_lexer": "ipython3",
   "version": "3.8.8"
  }
 },
 "nbformat": 4,
 "nbformat_minor": 5
}
