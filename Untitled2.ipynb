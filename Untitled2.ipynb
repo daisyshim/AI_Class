{
 "cells": [
  {
   "cell_type": "code",
   "execution_count": 2,
   "id": "13213d20-cd94-44d3-a8a7-ce8c48d9fa87",
   "metadata": {},
   "outputs": [
    {
     "name": "stdout",
     "output_type": "stream",
     "text": [
      "동결\n"
     ]
    }
   ],
   "source": [
    "math = 80\n",
    "eng = 100\n",
    "if math>=90 and eng >=90 :\n",
    "    print(\"용돈 인상\")\n",
    "elif math<=80 and eng <= 80:\n",
    "    print(\"용돈 삭감\")\n",
    "else:\n",
    "    print(\"동결\")"
   ]
  },
  {
   "cell_type": "code",
   "execution_count": 6,
   "id": "188e84de-09d3-4aa7-a2b3-2284006c2442",
   "metadata": {},
   "outputs": [
    {
     "name": "stdout",
     "output_type": "stream",
     "text": [
      "[85, 95, 75, 70, 90, 100, 95, 85, 80, 85]\n"
     ]
    }
   ],
   "source": [
    "score = [80,90,70,65,85,95,90,80,75,80]\n",
    "new = []\n",
    "for i in score:\n",
    "    i = i+5\n",
    "    new.append(i)\n",
    "print(new)"
   ]
  },
  {
   "cell_type": "code",
   "execution_count": 7,
   "id": "dbf28da8-b775-4a52-a680-397c04828446",
   "metadata": {},
   "outputs": [
    {
     "name": "stdout",
     "output_type": "stream",
     "text": [
      "[85, 95, 75, 70, 100, 100, 95, 85, 80]\n"
     ]
    }
   ],
   "source": [
    "score = [80,90,70,65,95,100,90,80,75]\n",
    "new = []\n",
    "\n",
    "for i in score:\n",
    "    i = i+5\n",
    "    if i>=100 :\n",
    "        i = 100\n",
    "    new.append(i)\n",
    "print(new)"
   ]
  },
  {
   "cell_type": "code",
   "execution_count": 9,
   "id": "207fde21-65bf-41eb-a723-ccc60ebb2cd6",
   "metadata": {},
   "outputs": [
    {
     "data": {
      "text/plain": [
       "[85, 95, 75, 70, 100, 100, 95, 85, 80]"
      ]
     },
     "execution_count": 9,
     "metadata": {},
     "output_type": "execute_result"
    }
   ],
   "source": [
    "new2 = [i+5 if i<100 else i for i in score]\n",
    "new2"
   ]
  },
  {
   "cell_type": "code",
   "execution_count": 11,
   "id": "dbf50b6a-8366-47d6-857f-448cba2991c2",
   "metadata": {},
   "outputs": [
    {
     "name": "stdout",
     "output_type": "stream",
     "text": [
      "[85, 95, 75, 70, 100, 100, 95, 85, 80, 85]\n"
     ]
    }
   ],
   "source": [
    "score = [80,90,70,65,95,100,90,80,75,80]\n",
    "new_score = []\n",
    "index = 0\n",
    "\n",
    "while(index < len(score)):\n",
    "    if score[index] < 100 :\n",
    "        new = score[index] + 5\n",
    "    else:\n",
    "        new = score[index]\n",
    "    new_score.append(new)\n",
    "    index = index + 1\n",
    "\n",
    "print(new_score)"
   ]
  },
  {
   "cell_type": "code",
   "execution_count": 12,
   "id": "567a4939-8dc5-4b6c-ac6b-d14c4c8c9472",
   "metadata": {},
   "outputs": [
    {
     "name": "stdout",
     "output_type": "stream",
     "text": [
      "현재 사용량: 0\n",
      "현재 사용량: 50\n",
      "현재 사용량: 100\n",
      "현재 사용량: 150\n",
      "현재 사용량: 200\n",
      "현재 사용량: 250\n",
      "현재 사용량: 300\n",
      "over\n"
     ]
    }
   ],
   "source": [
    "# 사용허용 시간 300분. 사용자는 사용시 50분씩 사용. 지정 시간 도달시 사용 중단\n",
    "\n",
    "time = 0\n",
    "\n",
    "while(True):\n",
    "    print('현재 사용량: {}'.format(time))\n",
    "    if(time >= 300):\n",
    "        print('over')\n",
    "        break\n",
    "    else:\n",
    "        time = time + 50\n",
    "        "
   ]
  },
  {
   "cell_type": "code",
   "execution_count": 13,
   "id": "75a1b574-cae2-4002-bc01-85c47e940744",
   "metadata": {},
   "outputs": [
    {
     "name": "stdout",
     "output_type": "stream",
     "text": [
      "현재 사용량: 0\n",
      "safety\n",
      "현재 사용량: 50\n",
      "safety\n",
      "현재 사용량: 100\n",
      "safety\n",
      "현재 사용량: 150\n",
      "현재 사용량: 200\n",
      "현재 사용량: 250\n",
      "현재 사용량: 300\n",
      "over\n"
     ]
    }
   ],
   "source": [
    "# 현재 사용량 150분 미만일경우 '안전하다' 메시지 띄우기\n",
    "\n",
    "time = 0\n",
    "\n",
    "while (True):\n",
    "    print('현재 사용량: {}'.format(time))\n",
    "    if(time < 150):\n",
    "        print('safety')\n",
    "    if(time >= 300):\n",
    "        print('over')\n",
    "        break\n",
    "    else:\n",
    "        time = time + 50"
   ]
  },
  {
   "cell_type": "code",
   "execution_count": 14,
   "id": "ea2949dd-2d6f-4903-b88c-c22024f669bf",
   "metadata": {},
   "outputs": [
    {
     "name": "stdout",
     "output_type": "stream",
     "text": [
      "주문번호\n",
      "주문자\n",
      "주소\n",
      "주문항목\n"
     ]
    }
   ],
   "source": [
    "#쇼핑몰 신규 주문 목록 생성\n",
    "\n",
    "shopping_dict = {'주문번호': 123, '주문자':'홍길동', '주소':'서울 마포구 상암동', '주문항목':['맛좋은 김치', '맛좋은 라면', '시원한 물']}\n",
    "\n",
    "for item in shopping_dict:\n",
    "    print(item)"
   ]
  },
  {
   "cell_type": "code",
   "execution_count": 15,
   "id": "925618bf-e122-4f53-b6c4-edd031065f92",
   "metadata": {},
   "outputs": [
    {
     "name": "stdout",
     "output_type": "stream",
     "text": [
      "('주문번호', 123)\n",
      "('주문자', '홍길동')\n",
      "('주소', '서울 마포구 상암동')\n",
      "('주문항목', ['맛좋은 김치', '맛좋은 라면', '시원한 물'])\n"
     ]
    }
   ],
   "source": [
    "for item in shopping_dict.items():\n",
    "    print(item)"
   ]
  },
  {
   "cell_type": "code",
   "execution_count": 16,
   "id": "2fbfdeab-83f7-4113-958c-896fdf3e3b33",
   "metadata": {},
   "outputs": [
    {
     "name": "stdout",
     "output_type": "stream",
     "text": [
      "주문번호\n",
      "123\n",
      "-----\n",
      "주문자\n",
      "홍길동\n",
      "-----\n",
      "주소\n",
      "서울 마포구 상암동\n",
      "-----\n",
      "주문항목\n",
      "['맛좋은 김치', '맛좋은 라면', '시원한 물']\n",
      "-----\n"
     ]
    }
   ],
   "source": [
    "for key, value in shopping_dict.items():\n",
    "    print(key)\n",
    "    print(value)\n",
    "    print('-----')"
   ]
  },
  {
   "cell_type": "code",
   "execution_count": 19,
   "id": "c7c42512-ff17-4551-97de-72614f35c997",
   "metadata": {},
   "outputs": [
    {
     "name": "stdout",
     "output_type": "stream",
     "text": [
      "고구마 good\n",
      "떡볶이 먹지마\n",
      "라면 먹지마\n"
     ]
    }
   ],
   "source": [
    "menu = {\"고구마\":200, \"떡볶이\":600, \"라면\":800}\n",
    "\n",
    "for i, j in menu.items():\n",
    "    if j > 500 :\n",
    "        print('{} 먹지마'.format(i))\n",
    "    else:\n",
    "        print('{} good'.format(i))"
   ]
  },
  {
   "cell_type": "code",
   "execution_count": 20,
   "id": "d5d6b9ad-0157-47dc-ae47-b8e9f617f9df",
   "metadata": {},
   "outputs": [
    {
     "name": "stdout",
     "output_type": "stream",
     "text": [
      "4\n"
     ]
    }
   ],
   "source": [
    "#산토끼 '토' 빈도\n",
    "\n",
    "lyric = \"\"\"산토끼 토끼야. 어디를 가느냐. 깡총깡총 뛰면서 어디를 가느냐.\n",
    "산 고개 고개를. 나 혼자 넘어서. 토실토실 알밤을. 주워올테야\"\"\"\n",
    "\n",
    "count = 0\n",
    "\n",
    "for l in lyric:\n",
    "    if (l == '토'):\n",
    "        count += 1\n",
    "print(count)"
   ]
  },
  {
   "cell_type": "code",
   "execution_count": 21,
   "id": "89f6379d-4ce9-43d4-9ab2-34853aa7d193",
   "metadata": {},
   "outputs": [
    {
     "data": {
      "text/plain": [
       "str"
      ]
     },
     "execution_count": 21,
     "metadata": {},
     "output_type": "execute_result"
    }
   ],
   "source": [
    "type(lyric)"
   ]
  },
  {
   "cell_type": "code",
   "execution_count": 34,
   "id": "2d65dc28-a403-4008-9859-99e9301fc767",
   "metadata": {},
   "outputs": [
    {
     "name": "stdout",
     "output_type": "stream",
     "text": [
      "1일 - 5쪽\n",
      "2일 - 10쪽\n",
      "3일 - 15쪽\n",
      "4일 - 20쪽\n",
      "5일 - 25쪽\n",
      "6일 - 30쪽\n",
      "7일 - 35쪽\n",
      "8일 - 40쪽\n",
      "9일 - 45쪽\n",
      "10일 - 50쪽\n",
      "11일 - 55쪽\n",
      "12일 - 60쪽\n",
      "13일 - 65쪽\n",
      "14일 - 70쪽\n",
      "15일 - 75쪽\n",
      "16일 - 80쪽\n",
      "17일 - 85쪽\n",
      "18일 - 90쪽\n",
      "19일 - 95쪽\n",
      "20일 - 100쪽\n"
     ]
    }
   ],
   "source": [
    "for day in range(20):\n",
    "        print('{}일 - {}쪽'.format(day+1, (day+1)*5))"
   ]
  },
  {
   "cell_type": "code",
   "execution_count": 41,
   "id": "d32d4650-4093-47f8-8b91-b160d1163753",
   "metadata": {},
   "outputs": [
    {
     "name": "stdout",
     "output_type": "stream",
     "text": [
      "[1일차 공부 계획]\n",
      "5쪽까지\n",
      "\n",
      "[2일차 공부 계획]\n",
      "10쪽까지\n",
      "\n",
      "[3일차 공부 계획]\n",
      "15쪽까지\n",
      "\n",
      "[4일차 공부 계획]\n",
      "20쪽까지\n",
      "\n",
      "[5일차 공부 계획]\n",
      "25쪽까지\n",
      "\n",
      "[6일차 공부 계획]\n",
      "30쪽까지\n",
      "\n",
      "[7일차 공부 계획]\n",
      "35쪽까지\n",
      "\n",
      "[8일차 공부 계획]\n",
      "40쪽까지\n",
      "\n",
      "[9일차 공부 계획]\n",
      "45쪽까지\n",
      "\n",
      "[10일차 공부 계획]\n",
      "50쪽까지\n",
      "\n",
      "[11일차 공부 계획]\n",
      "55쪽까지\n",
      "\n",
      "[12일차 공부 계획]\n",
      "60쪽까지\n",
      "\n",
      "[13일차 공부 계획]\n",
      "65쪽까지\n",
      "\n",
      "[14일차 공부 계획]\n",
      "70쪽까지\n",
      "\n",
      "[15일차 공부 계획]\n",
      "75쪽까지\n",
      "\n",
      "[16일차 공부 계획]\n",
      "80쪽까지\n",
      "\n",
      "[17일차 공부 계획]\n",
      "85쪽까지\n",
      "\n",
      "[18일차 공부 계획]\n",
      "90쪽까지\n",
      "\n",
      "[19일차 공부 계획]\n",
      "95쪽까지\n",
      "\n",
      "[20일차 공부 계획]\n",
      "100쪽까지\n",
      "\n"
     ]
    }
   ],
   "source": [
    "mark = 0\n",
    "\n",
    "for day in range(20):\n",
    "    print('[{}일차 공부 계획]'.format(day+1))\n",
    "    print('{}쪽까지'.format((day+1)*5))\n",
    "    print('')"
   ]
  },
  {
   "cell_type": "code",
   "execution_count": 43,
   "id": "e3353407-f072-4270-acf3-59f4bd84aefc",
   "metadata": {},
   "outputs": [
    {
     "name": "stdout",
     "output_type": "stream",
     "text": [
      "이름을 입력하세요: \n"
     ]
    },
    {
     "name": "stdin",
     "output_type": "stream",
     "text": [
      "None hee\n"
     ]
    },
    {
     "name": "stdout",
     "output_type": "stream",
     "text": [
      "hee\n"
     ]
    }
   ],
   "source": [
    "a = input(print('이름을 입력하세요: '))\n",
    "print(a)"
   ]
  },
  {
   "cell_type": "code",
   "execution_count": 44,
   "id": "7b87e987-44e8-4f76-8a81-10320ea7d1d9",
   "metadata": {},
   "outputs": [
    {
     "name": "stdin",
     "output_type": "stream",
     "text": [
      "이름을 입력하세요:  hee\n"
     ]
    },
    {
     "name": "stdout",
     "output_type": "stream",
     "text": [
      "hee\n"
     ]
    }
   ],
   "source": [
    "name = input('이름을 입력하세요: ')\n",
    "print(name)"
   ]
  },
  {
   "cell_type": "code",
   "execution_count": 52,
   "id": "6efa1975-0ebb-465a-a7c2-f4bb058a76c0",
   "metadata": {},
   "outputs": [
    {
     "name": "stdin",
     "output_type": "stream",
     "text": [
      "키:  160\n"
     ]
    },
    {
     "name": "stdout",
     "output_type": "stream",
     "text": [
      "54.0\n"
     ]
    }
   ],
   "source": [
    "height = float(input('키: '))\n",
    "weight = (height - 100) * 0.9\n",
    "print(weight)"
   ]
  },
  {
   "cell_type": "code",
   "execution_count": 53,
   "id": "683cccb9-dc01-40d7-95ff-b96175293668",
   "metadata": {},
   "outputs": [
    {
     "name": "stdout",
     "output_type": "stream",
     "text": [
      "apple peach mango\n"
     ]
    }
   ],
   "source": [
    "print(\"apple\", \"peach\", \"mango\")"
   ]
  },
  {
   "cell_type": "code",
   "execution_count": 54,
   "id": "02379ef0-e6b0-4763-bbac-1e809127c8c9",
   "metadata": {},
   "outputs": [
    {
     "name": "stdout",
     "output_type": "stream",
     "text": [
      "apple,peach,mango\n"
     ]
    }
   ],
   "source": [
    "print(\"apple\", \"peach\", \"mango\", sep = ',')"
   ]
  },
  {
   "cell_type": "code",
   "execution_count": 60,
   "id": "0fdc0f00-8c79-4ce6-93ca-07e02f14cf81",
   "metadata": {},
   "outputs": [
    {
     "name": "stdout",
     "output_type": "stream",
     "text": [
      "rmsid whssk vusgkrptksmsrjteh skQmwl dksgekrh\n"
     ]
    }
   ],
   "source": [
    "print(\"rmsid whssk vusgkrp\", end = \"\")\n",
    "print(\"tksmsrjteh skQmwl dksgekrh\")"
   ]
  },
  {
   "cell_type": "code",
   "execution_count": 58,
   "id": "a4812390-ac8c-4539-9e5f-a105f69b4e0a",
   "metadata": {},
   "outputs": [
    {
     "name": "stdout",
     "output_type": "stream",
     "text": [
      "95.12%\n"
     ]
    }
   ],
   "source": [
    "print(\"{:.2f}%\".format(95.123456879))"
   ]
  },
  {
   "cell_type": "code",
   "execution_count": 69,
   "id": "d2b0ea75-950a-4a5a-9cba-fe0b5a5bb783",
   "metadata": {},
   "outputs": [],
   "source": [
    "f = open(\"abc.txt\", \"w\")\n",
    "f.write(\"A B C D E F G\")\n",
    "f.close()"
   ]
  },
  {
   "cell_type": "code",
   "execution_count": 70,
   "id": "c3a4c413-919e-4dd5-8a56-32ab8f4a5341",
   "metadata": {},
   "outputs": [
    {
     "name": "stdout",
     "output_type": "stream",
     "text": [
      "A B C D E F G\n"
     ]
    }
   ],
   "source": [
    "f = open(\"abc.txt\", \"r\")\n",
    "print(f.read())\n",
    "f.close()"
   ]
  },
  {
   "cell_type": "code",
   "execution_count": 71,
   "id": "284c7b88-53b7-44ff-8afd-2fcceea674e7",
   "metadata": {},
   "outputs": [],
   "source": [
    "f = open(\"abc.txt\", \"a\")\n",
    "f.write(\"H I J K L M N O P\")\n",
    "f.close()"
   ]
  },
  {
   "cell_type": "code",
   "execution_count": 72,
   "id": "fe6a9aeb-edcd-4089-bfcb-f80c5415ed67",
   "metadata": {},
   "outputs": [
    {
     "name": "stdout",
     "output_type": "stream",
     "text": [
      "A B C D E F GH I J K L M N O P\n"
     ]
    }
   ],
   "source": [
    "f = open(\"abc.txt\", \"r\")\n",
    "print(f.read())\n",
    "f.close()"
   ]
  },
  {
   "cell_type": "code",
   "execution_count": 79,
   "id": "7eea8619-4328-4940-930e-1bd2ff6cfb78",
   "metadata": {},
   "outputs": [
    {
     "name": "stdout",
     "output_type": "stream",
     "text": [
      "2021. 9. 7\n",
      "날씨: 맑음\n",
      "인생ㅎ..\n"
     ]
    }
   ],
   "source": [
    "with open(\"일기.txt\", \"w\") as f :\n",
    "    f.write(\"2021. 9. 7\\n\")\n",
    "    \n",
    "with open(\"일기.txt\", \"a\") as f :\n",
    "    f.write(\"날씨: 맑음\\n\")\n",
    "    f.write(\"인생ㅎ..\")\n",
    "    \n",
    "with open(\"일기.txt\", \"r\") as f :\n",
    "    print(f.read())"
   ]
  },
  {
   "cell_type": "code",
   "execution_count": 81,
   "id": "a6bda189-d450-4dec-9e8d-feee71171d64",
   "metadata": {},
   "outputs": [
    {
     "name": "stdout",
     "output_type": "stream",
     "text": [
      "아이스 아메리카노\n"
     ]
    }
   ],
   "source": [
    "#온도에 따른 커피 주문\n",
    "\n",
    "def coffee(c):\n",
    "    if c > 0:\n",
    "        print('아이스 아메리카노')\n",
    "    else:\n",
    "        print('따뜻한 아메리카노')\n",
    "        \n",
    "coffee(30)"
   ]
  },
  {
   "cell_type": "code",
   "execution_count": 82,
   "id": "b320d71e-a94e-4a21-ac27-b78ec29bffe4",
   "metadata": {},
   "outputs": [],
   "source": [
    "def coffee(c):\n",
    "    result = ''\n",
    "    if c > 0:\n",
    "        result = '아이스 아메리카노'\n",
    "    else :\n",
    "        result = '따뜻한 아메리카노'\n",
    "    return result"
   ]
  },
  {
   "cell_type": "code",
   "execution_count": 84,
   "id": "6d97cb49-8610-47c4-9164-30d79fac0653",
   "metadata": {},
   "outputs": [
    {
     "data": {
      "text/plain": [
       "'따뜻한 아메리카노'"
      ]
     },
     "execution_count": 84,
     "metadata": {},
     "output_type": "execute_result"
    }
   ],
   "source": [
    "coffee(-5)"
   ]
  },
  {
   "cell_type": "code",
   "execution_count": 87,
   "id": "ecffb8b9-b115-496a-b998-8d611e001e3b",
   "metadata": {},
   "outputs": [
    {
     "data": {
      "text/plain": [
       "[85, 95, 75, 70, 90, 100, 95, 85, 80, 85]"
      ]
     },
     "execution_count": 87,
     "metadata": {},
     "output_type": "execute_result"
    }
   ],
   "source": [
    "score = [80,90,70,65,85,95,90,80,75,80]\n",
    "new_score = []\n",
    "\n",
    "def edit_scr(score):\n",
    "    for i in score:\n",
    "        i += 5\n",
    "        new_score.append(i)\n",
    "    return new_score\n",
    "\n",
    "edit_scr(score)"
   ]
  },
  {
   "cell_type": "code",
   "execution_count": 93,
   "id": "4dba5ce6-37ec-4b83-856f-a2d3556789d5",
   "metadata": {},
   "outputs": [
    {
     "data": {
      "text/plain": [
       "4"
      ]
     },
     "execution_count": 93,
     "metadata": {},
     "output_type": "execute_result"
    }
   ],
   "source": [
    "#노래가사\n",
    "\n",
    "lyric = \"\"\"산토끼 토끼야 어디를 가느냐 깡총깡총 뛰면서 어디를 가느냐\n",
    "산 고개 고개를 나 혼자 넘어서 토실토실 알밤을 주워 올 테야\"\"\"\n",
    "\n",
    "def count_word(lyric, w):\n",
    "    count = 0\n",
    "    for l in lyric:\n",
    "        if (l==w):\n",
    "            count += 1\n",
    "    return count\n",
    "\n",
    "count_word(lyric, '토')"
   ]
  },
  {
   "cell_type": "code",
   "execution_count": 94,
   "id": "c99b6809-e861-44d9-a017-5adf82e2837f",
   "metadata": {},
   "outputs": [],
   "source": [
    "#영어 단어 대문자와 소문자로 출력하기\n",
    "\n",
    "def change_eng(word):\n",
    "    up = word.upper()\n",
    "    down = word.lower()\n",
    "    return up, down\n"
   ]
  },
  {
   "cell_type": "code",
   "execution_count": 95,
   "id": "b1015199-0c73-4cd1-8e5c-4a1649fa1b76",
   "metadata": {},
   "outputs": [
    {
     "data": {
      "text/plain": [
       "('I LIKE SEOUL', 'i like seoul')"
      ]
     },
     "execution_count": 95,
     "metadata": {},
     "output_type": "execute_result"
    }
   ],
   "source": [
    "change_eng(\"I like Seoul\")"
   ]
  },
  {
   "cell_type": "code",
   "execution_count": 97,
   "id": "409e1ba4-6f7b-4e53-b84b-77a711804f46",
   "metadata": {},
   "outputs": [],
   "source": [
    "#두 수와 연산자를 입력받아 사칙연산 결과 출력\n",
    "\n",
    "def cal(num1, num2, operator):\n",
    "    num3=0\n",
    "    if (operator == '+'):\n",
    "        num3 = num1 + num2\n",
    "        print(num3)\n",
    "    elif (operator == '-' ):\n",
    "        num3 = num1 - num2\n",
    "        print(num3)\n",
    "    elif (operator == '*'):\n",
    "        num3 = num1 * num2\n",
    "        print(num3)\n",
    "\n",
    "    "
   ]
  },
  {
   "cell_type": "code",
   "execution_count": 2,
   "id": "20220684-00fb-4217-af86-04defb68cf55",
   "metadata": {},
   "outputs": [
    {
     "data": {
      "text/plain": [
       "['나는',\n",
       " '자랑스러운',\n",
       " '태극기',\n",
       " '앞에',\n",
       " '자유롭고',\n",
       " '정의로운',\n",
       " '대한민국의',\n",
       " '무궁한',\n",
       " '영광을',\n",
       " '위하여',\n",
       " '충성을',\n",
       " '다할',\n",
       " '것을',\n",
       " '굳게',\n",
       " '다짐합니다.']"
      ]
     },
     "execution_count": 2,
     "metadata": {},
     "output_type": "execute_result"
    }
   ],
   "source": [
    "text = \"나는 자랑스러운 태극기 앞에 자유롭고 정의로운 대한민국의 무궁한 영광을 위하여 충성을 다할 것을 굳게 다짐합니다.\"\n",
    "text.split(\" \")"
   ]
  },
  {
   "cell_type": "code",
   "execution_count": 3,
   "id": "4047c1c6-4004-4494-9308-46f0c8d3aa1f",
   "metadata": {},
   "outputs": [
    {
     "data": {
      "text/plain": [
       "['+82', '10', '1234', '5678']"
      ]
     },
     "execution_count": 3,
     "metadata": {},
     "output_type": "execute_result"
    }
   ],
   "source": [
    "text = \"+82-10-1234-5678\"\n",
    "text.split(\"-\")"
   ]
  },
  {
   "cell_type": "code",
   "execution_count": 8,
   "id": "aef4f386-e1a6-45f8-b222-7368a16a5d12",
   "metadata": {},
   "outputs": [
    {
     "data": {
      "text/plain": [
       "['+82', '10', '1234-5678']"
      ]
     },
     "execution_count": 8,
     "metadata": {},
     "output_type": "execute_result"
    }
   ],
   "source": [
    "text.split(\"-\", 2)"
   ]
  },
  {
   "cell_type": "code",
   "execution_count": 9,
   "id": "cbe74003-6c98-4d39-bfc0-e0d67b5e71ad",
   "metadata": {},
   "outputs": [
    {
     "data": {
      "text/plain": [
       "' 친구들 안녕 친구들'"
      ]
     },
     "execution_count": 9,
     "metadata": {},
     "output_type": "execute_result"
    }
   ],
   "source": [
    "text = \"안녕 친구들 안녕 친구들\"\n",
    "text.strip(\"안녕\")"
   ]
  },
  {
   "cell_type": "code",
   "execution_count": 11,
   "id": "0642a012-c65a-4c39-8f77-73d87066db37",
   "metadata": {},
   "outputs": [
    {
     "data": {
      "text/plain": [
       "13"
      ]
     },
     "execution_count": 11,
     "metadata": {},
     "output_type": "execute_result"
    }
   ],
   "source": [
    "order = \"아이스 아메리카노, 뜨거운 아메리카노,플레인 요거트, 녹차, 얼그레이, 타이거 슈가\"\n",
    "order.find(\"아메리카노\")"
   ]
  },
  {
   "cell_type": "code",
   "execution_count": 14,
   "id": "0c26f997-872f-4be1-85a6-317114eeb801",
   "metadata": {},
   "outputs": [
    {
     "data": {
      "text/plain": [
       "True"
      ]
     },
     "execution_count": 14,
     "metadata": {},
     "output_type": "execute_result"
    }
   ],
   "source": [
    "s = '가나다라 마바사아 자차카타 파하'\n",
    "s.startswith('가')\n",
    "# s.startswith('마')\n",
    "# s.startswith('마',s.find('마')) #find는 '마' 의 시작지점을 알려줌 : 5\n",
    "# s.startswith('마',1)\n"
   ]
  },
  {
   "cell_type": "code",
   "execution_count": 16,
   "id": "8f5eb5a2-41c7-4a16-a799-76d526c61dfa",
   "metadata": {},
   "outputs": [
    {
     "name": "stdout",
     "output_type": "stream",
     "text": [
      "True\n",
      "False\n",
      "False\n"
     ]
    }
   ],
   "source": [
    "animals = ['강아지', '송아지', '돼지']\n",
    "\n",
    "for i in animals:\n",
    "    print(i.startswith('강'))"
   ]
  },
  {
   "cell_type": "code",
   "execution_count": 17,
   "id": "baf681c6-6039-4b85-b049-47a5666fac20",
   "metadata": {},
   "outputs": [
    {
     "name": "stdout",
     "output_type": "stream",
     "text": [
      "True\n",
      "True\n",
      "True\n"
     ]
    }
   ],
   "source": [
    "for i in animals:\n",
    "    print(i.endswith('지'))"
   ]
  },
  {
   "cell_type": "code",
   "execution_count": null,
   "id": "a3a275de-bb53-461c-a482-c16e518ae127",
   "metadata": {},
   "outputs": [],
   "source": []
  },
  {
   "cell_type": "code",
   "execution_count": 19,
   "id": "3f79a1e2-5fea-4a93-8287-2af35555ce4c",
   "metadata": {},
   "outputs": [
    {
     "data": {
      "text/plain": [
       "array([1, 2, 3])"
      ]
     },
     "execution_count": 19,
     "metadata": {},
     "output_type": "execute_result"
    }
   ],
   "source": [
    "import numpy as np\n",
    "\n",
    "list1 = [1,2,3]\n",
    "arr1 = np.array(list1)\n",
    "arr1"
   ]
  },
  {
   "cell_type": "code",
   "execution_count": 23,
   "id": "2c01efd8-cb03-4c6a-9b47-d7d8dfcfe478",
   "metadata": {},
   "outputs": [
    {
     "data": {
      "text/plain": [
       "array([[0.74850863, 0.61926722, 0.93368238],\n",
       "       [0.22454299, 0.71165854, 0.45804436],\n",
       "       [0.18997694, 0.29429583, 0.55091182],\n",
       "       [0.72191476, 0.78627411, 0.70620425],\n",
       "       [0.48495025, 0.90467533, 0.27550291]])"
      ]
     },
     "execution_count": 23,
     "metadata": {},
     "output_type": "execute_result"
    }
   ],
   "source": [
    "np.random.rand(5,3)"
   ]
  },
  {
   "cell_type": "code",
   "execution_count": 24,
   "id": "b2d5549e-0b6e-44a7-a025-79478139e0ef",
   "metadata": {},
   "outputs": [
    {
     "data": {
      "text/plain": [
       "array([ 0,  1,  2,  3,  4,  5,  6,  7,  8,  9, 10, 11, 12, 13, 14, 15])"
      ]
     },
     "execution_count": 24,
     "metadata": {},
     "output_type": "execute_result"
    }
   ],
   "source": [
    "arr2 = np.arange(16)\n",
    "arr2"
   ]
  },
  {
   "cell_type": "code",
   "execution_count": 25,
   "id": "46a69306-5fe1-48aa-8935-4df2d6c0e55c",
   "metadata": {},
   "outputs": [
    {
     "data": {
      "text/plain": [
       "array([[ 0,  1,  2,  3],\n",
       "       [ 4,  5,  6,  7],\n",
       "       [ 8,  9, 10, 11],\n",
       "       [12, 13, 14, 15]])"
      ]
     },
     "execution_count": 25,
     "metadata": {},
     "output_type": "execute_result"
    }
   ],
   "source": [
    "arr2.reshape(4,4)"
   ]
  },
  {
   "cell_type": "code",
   "execution_count": 26,
   "id": "c7db6828-bf4a-4763-a9a6-cb91ca1cec4f",
   "metadata": {},
   "outputs": [
    {
     "data": {
      "text/plain": [
       "array([0., 0., 0., 0., 0.])"
      ]
     },
     "execution_count": 26,
     "metadata": {},
     "output_type": "execute_result"
    }
   ],
   "source": [
    "np.zeros(5)"
   ]
  },
  {
   "cell_type": "code",
   "execution_count": 27,
   "id": "c6fade16-085a-4de7-8d12-a8b541d6836f",
   "metadata": {},
   "outputs": [
    {
     "data": {
      "text/plain": [
       "array([[0., 0., 0.],\n",
       "       [0., 0., 0.]])"
      ]
     },
     "execution_count": 27,
     "metadata": {},
     "output_type": "execute_result"
    }
   ],
   "source": [
    "np.zeros((2,3))"
   ]
  },
  {
   "cell_type": "code",
   "execution_count": 30,
   "id": "c65dfa98-ab0c-4af9-b5ad-202abe9bec69",
   "metadata": {},
   "outputs": [
    {
     "data": {
      "text/plain": [
       "array([0, 1, 2, 3, 4, 5, 6, 7, 8, 9])"
      ]
     },
     "execution_count": 30,
     "metadata": {},
     "output_type": "execute_result"
    }
   ],
   "source": [
    "np.arange(10)"
   ]
  },
  {
   "cell_type": "code",
   "execution_count": 32,
   "id": "63e80845-a7d1-4e92-a97c-7098e2d3f187",
   "metadata": {},
   "outputs": [
    {
     "data": {
      "text/plain": [
       "array([20, 22, 24, 26, 28, 30, 32, 34, 36, 38])"
      ]
     },
     "execution_count": 32,
     "metadata": {},
     "output_type": "execute_result"
    }
   ],
   "source": [
    "np.arange(20,40,2)"
   ]
  },
  {
   "cell_type": "code",
   "execution_count": 34,
   "id": "2c0e3fdf-ca4e-4e73-88ec-ba0c9ad082f7",
   "metadata": {},
   "outputs": [],
   "source": [
    "a=np.random.rand(4)"
   ]
  },
  {
   "cell_type": "code",
   "execution_count": 36,
   "id": "0286bc1e-92cc-4565-873c-0659c7f1b3df",
   "metadata": {},
   "outputs": [
    {
     "data": {
      "text/plain": [
       "array([0.52044082, 0.49271869, 0.18701176, 0.91722441])"
      ]
     },
     "execution_count": 36,
     "metadata": {},
     "output_type": "execute_result"
    }
   ],
   "source": [
    "a"
   ]
  },
  {
   "cell_type": "code",
   "execution_count": 2,
   "id": "742d03e3-db3e-4be5-8565-5dff5049518b",
   "metadata": {},
   "outputs": [
    {
     "data": {
      "text/plain": [
       "array([80, 90, 70, 65, 85, 95, 90, 80, 75, 80])"
      ]
     },
     "execution_count": 2,
     "metadata": {},
     "output_type": "execute_result"
    }
   ],
   "source": [
    "import numpy as np\n",
    "\n",
    "scores = [80,90,70,65,85,95,90,80,75,80]\n",
    "score_arr = np.array(scores)\n",
    "score_arr"
   ]
  },
  {
   "cell_type": "code",
   "execution_count": 3,
   "id": "1e2761a2-4b51-41cf-b229-aa28af756957",
   "metadata": {},
   "outputs": [
    {
     "data": {
      "text/plain": [
       "array([False,  True, False, False, False,  True,  True, False, False,\n",
       "       False])"
      ]
     },
     "execution_count": 3,
     "metadata": {},
     "output_type": "execute_result"
    }
   ],
   "source": [
    "score_arr >= 90"
   ]
  },
  {
   "cell_type": "code",
   "execution_count": 4,
   "id": "0155aec5-9e12-45fb-8d0f-1c553f749361",
   "metadata": {},
   "outputs": [
    {
     "data": {
      "text/plain": [
       "array([90, 95, 90])"
      ]
     },
     "execution_count": 4,
     "metadata": {},
     "output_type": "execute_result"
    }
   ],
   "source": [
    "score_arr[score_arr >= 90]"
   ]
  },
  {
   "cell_type": "code",
   "execution_count": 6,
   "id": "39fda4fb-531d-4b65-a268-67be8e4f5e53",
   "metadata": {},
   "outputs": [
    {
     "data": {
      "text/plain": [
       "array([ 80, 999,  70,  65,  85, 999, 999,  80,  75,  80])"
      ]
     },
     "execution_count": 6,
     "metadata": {},
     "output_type": "execute_result"
    }
   ],
   "source": [
    "score_arr[score_arr >= 90] =999\n",
    "score_arr"
   ]
  },
  {
   "cell_type": "code",
   "execution_count": 8,
   "id": "82e76e4b-76f6-470e-8073-af5590fd04b2",
   "metadata": {},
   "outputs": [],
   "source": [
    "arr = np.arange(1, 5)"
   ]
  },
  {
   "cell_type": "code",
   "execution_count": 9,
   "id": "977e7b6c-f741-4d5f-a766-41762b571f00",
   "metadata": {},
   "outputs": [
    {
     "data": {
      "text/plain": [
       "array([ 1,  4,  9, 16], dtype=int32)"
      ]
     },
     "execution_count": 9,
     "metadata": {},
     "output_type": "execute_result"
    }
   ],
   "source": [
    "np.square(arr)"
   ]
  },
  {
   "cell_type": "code",
   "execution_count": 10,
   "id": "fffd70af-019a-4e14-88ae-f744656bddb0",
   "metadata": {},
   "outputs": [
    {
     "data": {
      "text/plain": [
       "array([1.        , 1.41421356, 1.73205081, 2.        ])"
      ]
     },
     "execution_count": 10,
     "metadata": {},
     "output_type": "execute_result"
    }
   ],
   "source": [
    "np.sqrt(arr)"
   ]
  },
  {
   "cell_type": "code",
   "execution_count": 11,
   "id": "b69e2355-abae-4f1d-b7f5-5707fd2d97c0",
   "metadata": {},
   "outputs": [
    {
     "data": {
      "text/plain": [
       "array([ 2.71828183,  7.3890561 , 20.08553692, 54.59815003])"
      ]
     },
     "execution_count": 11,
     "metadata": {},
     "output_type": "execute_result"
    }
   ],
   "source": [
    "np.exp(arr)"
   ]
  },
  {
   "cell_type": "code",
   "execution_count": 12,
   "id": "106bb33e-92f0-48cc-89ef-a9b998da1ee2",
   "metadata": {},
   "outputs": [
    {
     "data": {
      "text/plain": [
       "array([0.        , 0.69314718, 1.09861229, 1.38629436])"
      ]
     },
     "execution_count": 12,
     "metadata": {},
     "output_type": "execute_result"
    }
   ],
   "source": [
    "np.log(arr)"
   ]
  },
  {
   "cell_type": "code",
   "execution_count": 14,
   "id": "9af5d447-912d-4a29-9214-1a13c018c90e",
   "metadata": {},
   "outputs": [
    {
     "data": {
      "text/plain": [
       "array([[[ 0,  1,  2],\n",
       "        [ 3,  4,  5],\n",
       "        [ 6,  7,  8]],\n",
       "\n",
       "       [[ 9, 10, 11],\n",
       "        [12, 13, 14],\n",
       "        [15, 16, 17]],\n",
       "\n",
       "       [[18, 19, 20],\n",
       "        [21, 22, 23],\n",
       "        [24, 25, 26]]])"
      ]
     },
     "execution_count": 14,
     "metadata": {},
     "output_type": "execute_result"
    }
   ],
   "source": [
    "arr3d = np.arange(27).reshape(3,3,3)\n",
    "arr3d"
   ]
  },
  {
   "cell_type": "code",
   "execution_count": 18,
   "id": "2a6cbe2a-61dc-4ee5-a9d1-1a90f3302d19",
   "metadata": {},
   "outputs": [
    {
     "data": {
      "text/html": [
       "<div>\n",
       "<style scoped>\n",
       "    .dataframe tbody tr th:only-of-type {\n",
       "        vertical-align: middle;\n",
       "    }\n",
       "\n",
       "    .dataframe tbody tr th {\n",
       "        vertical-align: top;\n",
       "    }\n",
       "\n",
       "    .dataframe thead th {\n",
       "        text-align: right;\n",
       "    }\n",
       "</style>\n",
       "<table border=\"1\" class=\"dataframe\">\n",
       "  <thead>\n",
       "    <tr style=\"text-align: right;\">\n",
       "      <th></th>\n",
       "      <th>학번</th>\n",
       "      <th>성적</th>\n",
       "    </tr>\n",
       "  </thead>\n",
       "  <tbody>\n",
       "    <tr>\n",
       "      <th>0</th>\n",
       "      <td>20190760</td>\n",
       "      <td>85</td>\n",
       "    </tr>\n",
       "    <tr>\n",
       "      <th>1</th>\n",
       "      <td>20190761</td>\n",
       "      <td>95</td>\n",
       "    </tr>\n",
       "    <tr>\n",
       "      <th>2</th>\n",
       "      <td>20190762</td>\n",
       "      <td>75</td>\n",
       "    </tr>\n",
       "    <tr>\n",
       "      <th>3</th>\n",
       "      <td>20190763</td>\n",
       "      <td>70</td>\n",
       "    </tr>\n",
       "    <tr>\n",
       "      <th>4</th>\n",
       "      <td>20190764</td>\n",
       "      <td>100</td>\n",
       "    </tr>\n",
       "    <tr>\n",
       "      <th>5</th>\n",
       "      <td>20190765</td>\n",
       "      <td>100</td>\n",
       "    </tr>\n",
       "    <tr>\n",
       "      <th>6</th>\n",
       "      <td>20190766</td>\n",
       "      <td>95</td>\n",
       "    </tr>\n",
       "    <tr>\n",
       "      <th>7</th>\n",
       "      <td>20190767</td>\n",
       "      <td>85</td>\n",
       "    </tr>\n",
       "    <tr>\n",
       "      <th>8</th>\n",
       "      <td>20190768</td>\n",
       "      <td>80</td>\n",
       "    </tr>\n",
       "    <tr>\n",
       "      <th>9</th>\n",
       "      <td>20190769</td>\n",
       "      <td>85</td>\n",
       "    </tr>\n",
       "  </tbody>\n",
       "</table>\n",
       "</div>"
      ],
      "text/plain": [
       "         학번   성적\n",
       "0  20190760   85\n",
       "1  20190761   95\n",
       "2  20190762   75\n",
       "3  20190763   70\n",
       "4  20190764  100\n",
       "5  20190765  100\n",
       "6  20190766   95\n",
       "7  20190767   85\n",
       "8  20190768   80\n",
       "9  20190769   85"
      ]
     },
     "execution_count": 18,
     "metadata": {},
     "output_type": "execute_result"
    }
   ],
   "source": [
    "import pandas as pd\n",
    "\n",
    "data = {'학번' : range(20190760, 20190770), \n",
    "        '성적' : [85,95,75,70,100,100,95,85,80,85]}\n",
    "df = pd.DataFrame(data)\n",
    "df"
   ]
  },
  {
   "cell_type": "code",
   "execution_count": 19,
   "id": "88a4389a-5319-4183-b6a7-3d86a819d9e4",
   "metadata": {},
   "outputs": [
    {
     "data": {
      "text/html": [
       "<div>\n",
       "<style scoped>\n",
       "    .dataframe tbody tr th:only-of-type {\n",
       "        vertical-align: middle;\n",
       "    }\n",
       "\n",
       "    .dataframe tbody tr th {\n",
       "        vertical-align: top;\n",
       "    }\n",
       "\n",
       "    .dataframe thead th {\n",
       "        text-align: right;\n",
       "    }\n",
       "</style>\n",
       "<table border=\"1\" class=\"dataframe\">\n",
       "  <thead>\n",
       "    <tr style=\"text-align: right;\">\n",
       "      <th></th>\n",
       "      <th>성적</th>\n",
       "      <th>학번</th>\n",
       "    </tr>\n",
       "  </thead>\n",
       "  <tbody>\n",
       "    <tr>\n",
       "      <th>0</th>\n",
       "      <td>85</td>\n",
       "      <td>20190760</td>\n",
       "    </tr>\n",
       "    <tr>\n",
       "      <th>1</th>\n",
       "      <td>95</td>\n",
       "      <td>20190761</td>\n",
       "    </tr>\n",
       "    <tr>\n",
       "      <th>2</th>\n",
       "      <td>75</td>\n",
       "      <td>20190762</td>\n",
       "    </tr>\n",
       "    <tr>\n",
       "      <th>3</th>\n",
       "      <td>70</td>\n",
       "      <td>20190763</td>\n",
       "    </tr>\n",
       "    <tr>\n",
       "      <th>4</th>\n",
       "      <td>100</td>\n",
       "      <td>20190764</td>\n",
       "    </tr>\n",
       "    <tr>\n",
       "      <th>5</th>\n",
       "      <td>100</td>\n",
       "      <td>20190765</td>\n",
       "    </tr>\n",
       "    <tr>\n",
       "      <th>6</th>\n",
       "      <td>95</td>\n",
       "      <td>20190766</td>\n",
       "    </tr>\n",
       "    <tr>\n",
       "      <th>7</th>\n",
       "      <td>85</td>\n",
       "      <td>20190767</td>\n",
       "    </tr>\n",
       "    <tr>\n",
       "      <th>8</th>\n",
       "      <td>80</td>\n",
       "      <td>20190768</td>\n",
       "    </tr>\n",
       "    <tr>\n",
       "      <th>9</th>\n",
       "      <td>85</td>\n",
       "      <td>20190769</td>\n",
       "    </tr>\n",
       "  </tbody>\n",
       "</table>\n",
       "</div>"
      ],
      "text/plain": [
       "    성적        학번\n",
       "0   85  20190760\n",
       "1   95  20190761\n",
       "2   75  20190762\n",
       "3   70  20190763\n",
       "4  100  20190764\n",
       "5  100  20190765\n",
       "6   95  20190766\n",
       "7   85  20190767\n",
       "8   80  20190768\n",
       "9   85  20190769"
      ]
     },
     "execution_count": 19,
     "metadata": {},
     "output_type": "execute_result"
    }
   ],
   "source": [
    "df = pd.DataFrame(data, columns = ['성적', '학번'])\n",
    "df"
   ]
  },
  {
   "cell_type": "code",
   "execution_count": 20,
   "id": "df247281-07ad-4576-820b-538bdfb4ce1b",
   "metadata": {},
   "outputs": [
    {
     "data": {
      "text/html": [
       "<div>\n",
       "<style scoped>\n",
       "    .dataframe tbody tr th:only-of-type {\n",
       "        vertical-align: middle;\n",
       "    }\n",
       "\n",
       "    .dataframe tbody tr th {\n",
       "        vertical-align: top;\n",
       "    }\n",
       "\n",
       "    .dataframe thead th {\n",
       "        text-align: right;\n",
       "    }\n",
       "</style>\n",
       "<table border=\"1\" class=\"dataframe\">\n",
       "  <thead>\n",
       "    <tr style=\"text-align: right;\">\n",
       "      <th></th>\n",
       "      <th>학번</th>\n",
       "      <th>성적</th>\n",
       "    </tr>\n",
       "  </thead>\n",
       "  <tbody>\n",
       "    <tr>\n",
       "      <th>a</th>\n",
       "      <td>20190760</td>\n",
       "      <td>85</td>\n",
       "    </tr>\n",
       "    <tr>\n",
       "      <th>b</th>\n",
       "      <td>20190761</td>\n",
       "      <td>95</td>\n",
       "    </tr>\n",
       "    <tr>\n",
       "      <th>c</th>\n",
       "      <td>20190762</td>\n",
       "      <td>75</td>\n",
       "    </tr>\n",
       "    <tr>\n",
       "      <th>d</th>\n",
       "      <td>20190763</td>\n",
       "      <td>70</td>\n",
       "    </tr>\n",
       "    <tr>\n",
       "      <th>e</th>\n",
       "      <td>20190764</td>\n",
       "      <td>100</td>\n",
       "    </tr>\n",
       "    <tr>\n",
       "      <th>f</th>\n",
       "      <td>20190765</td>\n",
       "      <td>100</td>\n",
       "    </tr>\n",
       "    <tr>\n",
       "      <th>g</th>\n",
       "      <td>20190766</td>\n",
       "      <td>95</td>\n",
       "    </tr>\n",
       "    <tr>\n",
       "      <th>h</th>\n",
       "      <td>20190767</td>\n",
       "      <td>85</td>\n",
       "    </tr>\n",
       "    <tr>\n",
       "      <th>i</th>\n",
       "      <td>20190768</td>\n",
       "      <td>80</td>\n",
       "    </tr>\n",
       "    <tr>\n",
       "      <th>j</th>\n",
       "      <td>20190769</td>\n",
       "      <td>85</td>\n",
       "    </tr>\n",
       "  </tbody>\n",
       "</table>\n",
       "</div>"
      ],
      "text/plain": [
       "         학번   성적\n",
       "a  20190760   85\n",
       "b  20190761   95\n",
       "c  20190762   75\n",
       "d  20190763   70\n",
       "e  20190764  100\n",
       "f  20190765  100\n",
       "g  20190766   95\n",
       "h  20190767   85\n",
       "i  20190768   80\n",
       "j  20190769   85"
      ]
     },
     "execution_count": 20,
     "metadata": {},
     "output_type": "execute_result"
    }
   ],
   "source": [
    "index = ['a', 'b', 'c', 'd', 'e', 'f', 'g', 'h', 'i', 'j']\n",
    "df = pd.DataFrame(data, index = index)\n",
    "df"
   ]
  },
  {
   "cell_type": "code",
   "execution_count": 21,
   "id": "ce31563b-ca15-4787-a764-ff94359c324d",
   "metadata": {},
   "outputs": [
    {
     "data": {
      "text/html": [
       "<div>\n",
       "<style scoped>\n",
       "    .dataframe tbody tr th:only-of-type {\n",
       "        vertical-align: middle;\n",
       "    }\n",
       "\n",
       "    .dataframe tbody tr th {\n",
       "        vertical-align: top;\n",
       "    }\n",
       "\n",
       "    .dataframe thead th {\n",
       "        text-align: right;\n",
       "    }\n",
       "</style>\n",
       "<table border=\"1\" class=\"dataframe\">\n",
       "  <thead>\n",
       "    <tr style=\"text-align: right;\">\n",
       "      <th></th>\n",
       "      <th>a</th>\n",
       "      <th>b</th>\n",
       "      <th>c</th>\n",
       "      <th>d</th>\n",
       "      <th>e</th>\n",
       "      <th>f</th>\n",
       "      <th>g</th>\n",
       "      <th>h</th>\n",
       "      <th>i</th>\n",
       "      <th>j</th>\n",
       "    </tr>\n",
       "  </thead>\n",
       "  <tbody>\n",
       "    <tr>\n",
       "      <th>학번</th>\n",
       "      <td>20190760</td>\n",
       "      <td>20190761</td>\n",
       "      <td>20190762</td>\n",
       "      <td>20190763</td>\n",
       "      <td>20190764</td>\n",
       "      <td>20190765</td>\n",
       "      <td>20190766</td>\n",
       "      <td>20190767</td>\n",
       "      <td>20190768</td>\n",
       "      <td>20190769</td>\n",
       "    </tr>\n",
       "    <tr>\n",
       "      <th>성적</th>\n",
       "      <td>85</td>\n",
       "      <td>95</td>\n",
       "      <td>75</td>\n",
       "      <td>70</td>\n",
       "      <td>100</td>\n",
       "      <td>100</td>\n",
       "      <td>95</td>\n",
       "      <td>85</td>\n",
       "      <td>80</td>\n",
       "      <td>85</td>\n",
       "    </tr>\n",
       "  </tbody>\n",
       "</table>\n",
       "</div>"
      ],
      "text/plain": [
       "           a         b         c         d         e         f         g  \\\n",
       "학번  20190760  20190761  20190762  20190763  20190764  20190765  20190766   \n",
       "성적        85        95        75        70       100       100        95   \n",
       "\n",
       "           h         i         j  \n",
       "학번  20190767  20190768  20190769  \n",
       "성적        85        80        85  "
      ]
     },
     "execution_count": 21,
     "metadata": {},
     "output_type": "execute_result"
    }
   ],
   "source": [
    "df.T"
   ]
  },
  {
   "cell_type": "code",
   "execution_count": 22,
   "id": "22ebbe09-9567-4b0e-83fa-a3263ef64f40",
   "metadata": {},
   "outputs": [
    {
     "data": {
      "text/html": [
       "<div>\n",
       "<style scoped>\n",
       "    .dataframe tbody tr th:only-of-type {\n",
       "        vertical-align: middle;\n",
       "    }\n",
       "\n",
       "    .dataframe tbody tr th {\n",
       "        vertical-align: top;\n",
       "    }\n",
       "\n",
       "    .dataframe thead th {\n",
       "        text-align: right;\n",
       "    }\n",
       "</style>\n",
       "<table border=\"1\" class=\"dataframe\">\n",
       "  <thead>\n",
       "    <tr style=\"text-align: right;\">\n",
       "      <th></th>\n",
       "      <th>학번</th>\n",
       "      <th>성적</th>\n",
       "    </tr>\n",
       "  </thead>\n",
       "  <tbody>\n",
       "    <tr>\n",
       "      <th>a</th>\n",
       "      <td>20190760</td>\n",
       "      <td>85</td>\n",
       "    </tr>\n",
       "    <tr>\n",
       "      <th>b</th>\n",
       "      <td>20190761</td>\n",
       "      <td>95</td>\n",
       "    </tr>\n",
       "    <tr>\n",
       "      <th>c</th>\n",
       "      <td>20190762</td>\n",
       "      <td>75</td>\n",
       "    </tr>\n",
       "    <tr>\n",
       "      <th>d</th>\n",
       "      <td>20190763</td>\n",
       "      <td>70</td>\n",
       "    </tr>\n",
       "    <tr>\n",
       "      <th>e</th>\n",
       "      <td>20190764</td>\n",
       "      <td>100</td>\n",
       "    </tr>\n",
       "    <tr>\n",
       "      <th>f</th>\n",
       "      <td>20190765</td>\n",
       "      <td>100</td>\n",
       "    </tr>\n",
       "    <tr>\n",
       "      <th>g</th>\n",
       "      <td>20190766</td>\n",
       "      <td>95</td>\n",
       "    </tr>\n",
       "    <tr>\n",
       "      <th>h</th>\n",
       "      <td>20190767</td>\n",
       "      <td>85</td>\n",
       "    </tr>\n",
       "    <tr>\n",
       "      <th>i</th>\n",
       "      <td>20190768</td>\n",
       "      <td>80</td>\n",
       "    </tr>\n",
       "    <tr>\n",
       "      <th>j</th>\n",
       "      <td>20190769</td>\n",
       "      <td>85</td>\n",
       "    </tr>\n",
       "  </tbody>\n",
       "</table>\n",
       "</div>"
      ],
      "text/plain": [
       "         학번   성적\n",
       "a  20190760   85\n",
       "b  20190761   95\n",
       "c  20190762   75\n",
       "d  20190763   70\n",
       "e  20190764  100\n",
       "f  20190765  100\n",
       "g  20190766   95\n",
       "h  20190767   85\n",
       "i  20190768   80\n",
       "j  20190769   85"
      ]
     },
     "execution_count": 22,
     "metadata": {},
     "output_type": "execute_result"
    }
   ],
   "source": [
    "df"
   ]
  },
  {
   "cell_type": "code",
   "execution_count": 28,
   "id": "023ef9ea-df7b-4599-adaf-152c6a1232ba",
   "metadata": {},
   "outputs": [
    {
     "data": {
      "text/html": [
       "<div>\n",
       "<style scoped>\n",
       "    .dataframe tbody tr th:only-of-type {\n",
       "        vertical-align: middle;\n",
       "    }\n",
       "\n",
       "    .dataframe tbody tr th {\n",
       "        vertical-align: top;\n",
       "    }\n",
       "\n",
       "    .dataframe thead th {\n",
       "        text-align: right;\n",
       "    }\n",
       "</style>\n",
       "<table border=\"1\" class=\"dataframe\">\n",
       "  <thead>\n",
       "    <tr style=\"text-align: right;\">\n",
       "      <th></th>\n",
       "      <th>사용일자</th>\n",
       "      <th>노선명</th>\n",
       "      <th>역명</th>\n",
       "      <th>승차총승객수</th>\n",
       "      <th>하차총승객수</th>\n",
       "      <th>등록일자</th>\n",
       "    </tr>\n",
       "  </thead>\n",
       "  <tbody>\n",
       "    <tr>\n",
       "      <th>20210801</th>\n",
       "      <td>중앙선</td>\n",
       "      <td>회기</td>\n",
       "      <td>10269</td>\n",
       "      <td>10305</td>\n",
       "      <td>20210804</td>\n",
       "      <td>NaN</td>\n",
       "    </tr>\n",
       "    <tr>\n",
       "      <th>20210801</th>\n",
       "      <td>일산선</td>\n",
       "      <td>마두</td>\n",
       "      <td>2306</td>\n",
       "      <td>2354</td>\n",
       "      <td>20210804</td>\n",
       "      <td>NaN</td>\n",
       "    </tr>\n",
       "    <tr>\n",
       "      <th>20210801</th>\n",
       "      <td>일산선</td>\n",
       "      <td>정발산</td>\n",
       "      <td>3334</td>\n",
       "      <td>3307</td>\n",
       "      <td>20210804</td>\n",
       "      <td>NaN</td>\n",
       "    </tr>\n",
       "    <tr>\n",
       "      <th>20210801</th>\n",
       "      <td>일산선</td>\n",
       "      <td>주엽</td>\n",
       "      <td>3047</td>\n",
       "      <td>3044</td>\n",
       "      <td>20210804</td>\n",
       "      <td>NaN</td>\n",
       "    </tr>\n",
       "    <tr>\n",
       "      <th>20210801</th>\n",
       "      <td>일산선</td>\n",
       "      <td>대화</td>\n",
       "      <td>4520</td>\n",
       "      <td>4151</td>\n",
       "      <td>20210804</td>\n",
       "      <td>NaN</td>\n",
       "    </tr>\n",
       "    <tr>\n",
       "      <th>...</th>\n",
       "      <td>...</td>\n",
       "      <td>...</td>\n",
       "      <td>...</td>\n",
       "      <td>...</td>\n",
       "      <td>...</td>\n",
       "      <td>...</td>\n",
       "    </tr>\n",
       "    <tr>\n",
       "      <th>20210831</th>\n",
       "      <td>5호선</td>\n",
       "      <td>개화산</td>\n",
       "      <td>4889</td>\n",
       "      <td>4725</td>\n",
       "      <td>20210903</td>\n",
       "      <td>NaN</td>\n",
       "    </tr>\n",
       "    <tr>\n",
       "      <th>20210831</th>\n",
       "      <td>과천선</td>\n",
       "      <td>선바위</td>\n",
       "      <td>7498</td>\n",
       "      <td>6443</td>\n",
       "      <td>20210903</td>\n",
       "      <td>NaN</td>\n",
       "    </tr>\n",
       "    <tr>\n",
       "      <th>20210831</th>\n",
       "      <td>1호선</td>\n",
       "      <td>서울역</td>\n",
       "      <td>35669</td>\n",
       "      <td>33406</td>\n",
       "      <td>20210903</td>\n",
       "      <td>NaN</td>\n",
       "    </tr>\n",
       "    <tr>\n",
       "      <th>20210831</th>\n",
       "      <td>1호선</td>\n",
       "      <td>동묘앞</td>\n",
       "      <td>5809</td>\n",
       "      <td>6035</td>\n",
       "      <td>20210903</td>\n",
       "      <td>NaN</td>\n",
       "    </tr>\n",
       "    <tr>\n",
       "      <th>20210831</th>\n",
       "      <td>1호선</td>\n",
       "      <td>시청</td>\n",
       "      <td>19444</td>\n",
       "      <td>19266</td>\n",
       "      <td>20210903</td>\n",
       "      <td>NaN</td>\n",
       "    </tr>\n",
       "  </tbody>\n",
       "</table>\n",
       "<p>18638 rows × 6 columns</p>\n",
       "</div>"
      ],
      "text/plain": [
       "         사용일자  노선명     역명  승차총승객수    하차총승객수  등록일자\n",
       "20210801  중앙선   회기  10269   10305  20210804   NaN\n",
       "20210801  일산선   마두   2306    2354  20210804   NaN\n",
       "20210801  일산선  정발산   3334    3307  20210804   NaN\n",
       "20210801  일산선   주엽   3047    3044  20210804   NaN\n",
       "20210801  일산선   대화   4520    4151  20210804   NaN\n",
       "...       ...  ...    ...     ...       ...   ...\n",
       "20210831  5호선  개화산   4889    4725  20210903   NaN\n",
       "20210831  과천선  선바위   7498    6443  20210903   NaN\n",
       "20210831  1호선  서울역  35669   33406  20210903   NaN\n",
       "20210831  1호선  동묘앞   5809    6035  20210903   NaN\n",
       "20210831  1호선   시청  19444   19266  20210903   NaN\n",
       "\n",
       "[18638 rows x 6 columns]"
      ]
     },
     "execution_count": 28,
     "metadata": {},
     "output_type": "execute_result"
    }
   ],
   "source": [
    "data = pd.read_csv('C:/Users/user/Downloads/CARD_SUBWAY_MONTH_202108.csv')\n",
    "data"
   ]
  },
  {
   "cell_type": "code",
   "execution_count": 36,
   "id": "f7971c72-0b55-41f4-a4d5-331531f5e8cf",
   "metadata": {},
   "outputs": [
    {
     "data": {
      "text/html": [
       "<div>\n",
       "<style scoped>\n",
       "    .dataframe tbody tr th:only-of-type {\n",
       "        vertical-align: middle;\n",
       "    }\n",
       "\n",
       "    .dataframe tbody tr th {\n",
       "        vertical-align: top;\n",
       "    }\n",
       "\n",
       "    .dataframe thead th {\n",
       "        text-align: right;\n",
       "    }\n",
       "</style>\n",
       "<table border=\"1\" class=\"dataframe\">\n",
       "  <thead>\n",
       "    <tr style=\"text-align: right;\">\n",
       "      <th></th>\n",
       "      <th>사용일자</th>\n",
       "      <th>노선명</th>\n",
       "      <th>역명</th>\n",
       "      <th>승차총승객수</th>\n",
       "      <th>하차총승객수</th>\n",
       "      <th>등록일자</th>\n",
       "    </tr>\n",
       "  </thead>\n",
       "  <tbody>\n",
       "    <tr>\n",
       "      <th>20210801</th>\n",
       "      <td>중앙선</td>\n",
       "      <td>회기</td>\n",
       "      <td>10269</td>\n",
       "      <td>10305</td>\n",
       "      <td>20210804</td>\n",
       "      <td>NaN</td>\n",
       "    </tr>\n",
       "    <tr>\n",
       "      <th>20210801</th>\n",
       "      <td>일산선</td>\n",
       "      <td>마두</td>\n",
       "      <td>2306</td>\n",
       "      <td>2354</td>\n",
       "      <td>20210804</td>\n",
       "      <td>NaN</td>\n",
       "    </tr>\n",
       "    <tr>\n",
       "      <th>20210801</th>\n",
       "      <td>일산선</td>\n",
       "      <td>정발산</td>\n",
       "      <td>3334</td>\n",
       "      <td>3307</td>\n",
       "      <td>20210804</td>\n",
       "      <td>NaN</td>\n",
       "    </tr>\n",
       "    <tr>\n",
       "      <th>20210801</th>\n",
       "      <td>일산선</td>\n",
       "      <td>주엽</td>\n",
       "      <td>3047</td>\n",
       "      <td>3044</td>\n",
       "      <td>20210804</td>\n",
       "      <td>NaN</td>\n",
       "    </tr>\n",
       "    <tr>\n",
       "      <th>20210801</th>\n",
       "      <td>일산선</td>\n",
       "      <td>대화</td>\n",
       "      <td>4520</td>\n",
       "      <td>4151</td>\n",
       "      <td>20210804</td>\n",
       "      <td>NaN</td>\n",
       "    </tr>\n",
       "    <tr>\n",
       "      <th>...</th>\n",
       "      <td>...</td>\n",
       "      <td>...</td>\n",
       "      <td>...</td>\n",
       "      <td>...</td>\n",
       "      <td>...</td>\n",
       "      <td>...</td>\n",
       "    </tr>\n",
       "    <tr>\n",
       "      <th>20210831</th>\n",
       "      <td>5호선</td>\n",
       "      <td>개화산</td>\n",
       "      <td>4889</td>\n",
       "      <td>4725</td>\n",
       "      <td>20210903</td>\n",
       "      <td>NaN</td>\n",
       "    </tr>\n",
       "    <tr>\n",
       "      <th>20210831</th>\n",
       "      <td>과천선</td>\n",
       "      <td>선바위</td>\n",
       "      <td>7498</td>\n",
       "      <td>6443</td>\n",
       "      <td>20210903</td>\n",
       "      <td>NaN</td>\n",
       "    </tr>\n",
       "    <tr>\n",
       "      <th>20210831</th>\n",
       "      <td>1호선</td>\n",
       "      <td>서울역</td>\n",
       "      <td>35669</td>\n",
       "      <td>33406</td>\n",
       "      <td>20210903</td>\n",
       "      <td>NaN</td>\n",
       "    </tr>\n",
       "    <tr>\n",
       "      <th>20210831</th>\n",
       "      <td>1호선</td>\n",
       "      <td>동묘앞</td>\n",
       "      <td>5809</td>\n",
       "      <td>6035</td>\n",
       "      <td>20210903</td>\n",
       "      <td>NaN</td>\n",
       "    </tr>\n",
       "    <tr>\n",
       "      <th>20210831</th>\n",
       "      <td>1호선</td>\n",
       "      <td>시청</td>\n",
       "      <td>19444</td>\n",
       "      <td>19266</td>\n",
       "      <td>20210903</td>\n",
       "      <td>NaN</td>\n",
       "    </tr>\n",
       "  </tbody>\n",
       "</table>\n",
       "<p>18638 rows × 6 columns</p>\n",
       "</div>"
      ],
      "text/plain": [
       "         사용일자  노선명     역명  승차총승객수    하차총승객수  등록일자\n",
       "20210801  중앙선   회기  10269   10305  20210804   NaN\n",
       "20210801  일산선   마두   2306    2354  20210804   NaN\n",
       "20210801  일산선  정발산   3334    3307  20210804   NaN\n",
       "20210801  일산선   주엽   3047    3044  20210804   NaN\n",
       "20210801  일산선   대화   4520    4151  20210804   NaN\n",
       "...       ...  ...    ...     ...       ...   ...\n",
       "20210831  5호선  개화산   4889    4725  20210903   NaN\n",
       "20210831  과천선  선바위   7498    6443  20210903   NaN\n",
       "20210831  1호선  서울역  35669   33406  20210903   NaN\n",
       "20210831  1호선  동묘앞   5809    6035  20210903   NaN\n",
       "20210831  1호선   시청  19444   19266  20210903   NaN\n",
       "\n",
       "[18638 rows x 6 columns]"
      ]
     },
     "execution_count": 36,
     "metadata": {},
     "output_type": "execute_result"
    }
   ],
   "source": [
    "df = pd.read_csv('C:/Users/user/Downloads/CARD_SUBWAY_MONTH_202108.csv', header=0)\n",
    "df"
   ]
  },
  {
   "cell_type": "code",
   "execution_count": 41,
   "id": "504e5ddd-6ab4-4a89-b30b-9741a6d9d749",
   "metadata": {},
   "outputs": [
    {
     "data": {
      "text/html": [
       "<div>\n",
       "<style scoped>\n",
       "    .dataframe tbody tr th:only-of-type {\n",
       "        vertical-align: middle;\n",
       "    }\n",
       "\n",
       "    .dataframe tbody tr th {\n",
       "        vertical-align: top;\n",
       "    }\n",
       "\n",
       "    .dataframe thead th {\n",
       "        text-align: right;\n",
       "    }\n",
       "</style>\n",
       "<table border=\"1\" class=\"dataframe\">\n",
       "  <thead>\n",
       "    <tr style=\"text-align: right;\">\n",
       "      <th></th>\n",
       "      <th>20210801</th>\n",
       "      <th>중앙선</th>\n",
       "      <th>회기</th>\n",
       "      <th>10269</th>\n",
       "      <th>10305</th>\n",
       "      <th>20210804</th>\n",
       "      <th>Unnamed: 6</th>\n",
       "    </tr>\n",
       "  </thead>\n",
       "  <tbody>\n",
       "    <tr>\n",
       "      <th>0</th>\n",
       "      <td>20210801</td>\n",
       "      <td>일산선</td>\n",
       "      <td>마두</td>\n",
       "      <td>2306</td>\n",
       "      <td>2354</td>\n",
       "      <td>20210804</td>\n",
       "      <td>NaN</td>\n",
       "    </tr>\n",
       "    <tr>\n",
       "      <th>1</th>\n",
       "      <td>20210801</td>\n",
       "      <td>일산선</td>\n",
       "      <td>정발산</td>\n",
       "      <td>3334</td>\n",
       "      <td>3307</td>\n",
       "      <td>20210804</td>\n",
       "      <td>NaN</td>\n",
       "    </tr>\n",
       "    <tr>\n",
       "      <th>2</th>\n",
       "      <td>20210801</td>\n",
       "      <td>일산선</td>\n",
       "      <td>주엽</td>\n",
       "      <td>3047</td>\n",
       "      <td>3044</td>\n",
       "      <td>20210804</td>\n",
       "      <td>NaN</td>\n",
       "    </tr>\n",
       "    <tr>\n",
       "      <th>3</th>\n",
       "      <td>20210801</td>\n",
       "      <td>일산선</td>\n",
       "      <td>대화</td>\n",
       "      <td>4520</td>\n",
       "      <td>4151</td>\n",
       "      <td>20210804</td>\n",
       "      <td>NaN</td>\n",
       "    </tr>\n",
       "    <tr>\n",
       "      <th>4</th>\n",
       "      <td>20210801</td>\n",
       "      <td>장항선</td>\n",
       "      <td>봉명</td>\n",
       "      <td>369</td>\n",
       "      <td>369</td>\n",
       "      <td>20210804</td>\n",
       "      <td>NaN</td>\n",
       "    </tr>\n",
       "    <tr>\n",
       "      <th>...</th>\n",
       "      <td>...</td>\n",
       "      <td>...</td>\n",
       "      <td>...</td>\n",
       "      <td>...</td>\n",
       "      <td>...</td>\n",
       "      <td>...</td>\n",
       "      <td>...</td>\n",
       "    </tr>\n",
       "    <tr>\n",
       "      <th>18632</th>\n",
       "      <td>20210831</td>\n",
       "      <td>5호선</td>\n",
       "      <td>개화산</td>\n",
       "      <td>4889</td>\n",
       "      <td>4725</td>\n",
       "      <td>20210903</td>\n",
       "      <td>NaN</td>\n",
       "    </tr>\n",
       "    <tr>\n",
       "      <th>18633</th>\n",
       "      <td>20210831</td>\n",
       "      <td>과천선</td>\n",
       "      <td>선바위</td>\n",
       "      <td>7498</td>\n",
       "      <td>6443</td>\n",
       "      <td>20210903</td>\n",
       "      <td>NaN</td>\n",
       "    </tr>\n",
       "    <tr>\n",
       "      <th>18634</th>\n",
       "      <td>20210831</td>\n",
       "      <td>1호선</td>\n",
       "      <td>서울역</td>\n",
       "      <td>35669</td>\n",
       "      <td>33406</td>\n",
       "      <td>20210903</td>\n",
       "      <td>NaN</td>\n",
       "    </tr>\n",
       "    <tr>\n",
       "      <th>18635</th>\n",
       "      <td>20210831</td>\n",
       "      <td>1호선</td>\n",
       "      <td>동묘앞</td>\n",
       "      <td>5809</td>\n",
       "      <td>6035</td>\n",
       "      <td>20210903</td>\n",
       "      <td>NaN</td>\n",
       "    </tr>\n",
       "    <tr>\n",
       "      <th>18636</th>\n",
       "      <td>20210831</td>\n",
       "      <td>1호선</td>\n",
       "      <td>시청</td>\n",
       "      <td>19444</td>\n",
       "      <td>19266</td>\n",
       "      <td>20210903</td>\n",
       "      <td>NaN</td>\n",
       "    </tr>\n",
       "  </tbody>\n",
       "</table>\n",
       "<p>18637 rows × 7 columns</p>\n",
       "</div>"
      ],
      "text/plain": [
       "       20210801  중앙선   회기  10269  10305  20210804  Unnamed: 6\n",
       "0      20210801  일산선   마두   2306   2354  20210804         NaN\n",
       "1      20210801  일산선  정발산   3334   3307  20210804         NaN\n",
       "2      20210801  일산선   주엽   3047   3044  20210804         NaN\n",
       "3      20210801  일산선   대화   4520   4151  20210804         NaN\n",
       "4      20210801  장항선   봉명    369    369  20210804         NaN\n",
       "...         ...  ...  ...    ...    ...       ...         ...\n",
       "18632  20210831  5호선  개화산   4889   4725  20210903         NaN\n",
       "18633  20210831  과천선  선바위   7498   6443  20210903         NaN\n",
       "18634  20210831  1호선  서울역  35669  33406  20210903         NaN\n",
       "18635  20210831  1호선  동묘앞   5809   6035  20210903         NaN\n",
       "18636  20210831  1호선   시청  19444  19266  20210903         NaN\n",
       "\n",
       "[18637 rows x 7 columns]"
      ]
     },
     "execution_count": 41,
     "metadata": {},
     "output_type": "execute_result"
    }
   ],
   "source": [
    "df = pd.read_csv('C:/Users/user/Downloads/CARD_SUBWAY_MONTH_202108.csv', header=1)\n",
    "df"
   ]
  },
  {
   "cell_type": "code",
   "execution_count": 43,
   "id": "fe49d076-d0ca-4e93-bdc8-0667d9e1d2c5",
   "metadata": {},
   "outputs": [
    {
     "data": {
      "text/html": [
       "<div>\n",
       "<style scoped>\n",
       "    .dataframe tbody tr th:only-of-type {\n",
       "        vertical-align: middle;\n",
       "    }\n",
       "\n",
       "    .dataframe tbody tr th {\n",
       "        vertical-align: top;\n",
       "    }\n",
       "\n",
       "    .dataframe thead th {\n",
       "        text-align: right;\n",
       "    }\n",
       "</style>\n",
       "<table border=\"1\" class=\"dataframe\">\n",
       "  <thead>\n",
       "    <tr style=\"text-align: right;\">\n",
       "      <th></th>\n",
       "      <th>사용일자</th>\n",
       "      <th>노선명</th>\n",
       "      <th>역명</th>\n",
       "      <th>승차총승객수</th>\n",
       "      <th>하차총승객수</th>\n",
       "      <th>등록일자</th>\n",
       "    </tr>\n",
       "  </thead>\n",
       "  <tbody>\n",
       "    <tr>\n",
       "      <th>20210801</th>\n",
       "      <td>중앙선</td>\n",
       "      <td>회기</td>\n",
       "      <td>10269</td>\n",
       "      <td>10305</td>\n",
       "      <td>20210804</td>\n",
       "      <td>NaN</td>\n",
       "    </tr>\n",
       "    <tr>\n",
       "      <th>20210801</th>\n",
       "      <td>일산선</td>\n",
       "      <td>마두</td>\n",
       "      <td>2306</td>\n",
       "      <td>2354</td>\n",
       "      <td>20210804</td>\n",
       "      <td>NaN</td>\n",
       "    </tr>\n",
       "    <tr>\n",
       "      <th>20210801</th>\n",
       "      <td>일산선</td>\n",
       "      <td>정발산</td>\n",
       "      <td>3334</td>\n",
       "      <td>3307</td>\n",
       "      <td>20210804</td>\n",
       "      <td>NaN</td>\n",
       "    </tr>\n",
       "    <tr>\n",
       "      <th>20210801</th>\n",
       "      <td>일산선</td>\n",
       "      <td>주엽</td>\n",
       "      <td>3047</td>\n",
       "      <td>3044</td>\n",
       "      <td>20210804</td>\n",
       "      <td>NaN</td>\n",
       "    </tr>\n",
       "    <tr>\n",
       "      <th>20210801</th>\n",
       "      <td>일산선</td>\n",
       "      <td>대화</td>\n",
       "      <td>4520</td>\n",
       "      <td>4151</td>\n",
       "      <td>20210804</td>\n",
       "      <td>NaN</td>\n",
       "    </tr>\n",
       "    <tr>\n",
       "      <th>...</th>\n",
       "      <td>...</td>\n",
       "      <td>...</td>\n",
       "      <td>...</td>\n",
       "      <td>...</td>\n",
       "      <td>...</td>\n",
       "      <td>...</td>\n",
       "    </tr>\n",
       "    <tr>\n",
       "      <th>20210831</th>\n",
       "      <td>5호선</td>\n",
       "      <td>개화산</td>\n",
       "      <td>4889</td>\n",
       "      <td>4725</td>\n",
       "      <td>20210903</td>\n",
       "      <td>NaN</td>\n",
       "    </tr>\n",
       "    <tr>\n",
       "      <th>20210831</th>\n",
       "      <td>과천선</td>\n",
       "      <td>선바위</td>\n",
       "      <td>7498</td>\n",
       "      <td>6443</td>\n",
       "      <td>20210903</td>\n",
       "      <td>NaN</td>\n",
       "    </tr>\n",
       "    <tr>\n",
       "      <th>20210831</th>\n",
       "      <td>1호선</td>\n",
       "      <td>서울역</td>\n",
       "      <td>35669</td>\n",
       "      <td>33406</td>\n",
       "      <td>20210903</td>\n",
       "      <td>NaN</td>\n",
       "    </tr>\n",
       "    <tr>\n",
       "      <th>20210831</th>\n",
       "      <td>1호선</td>\n",
       "      <td>동묘앞</td>\n",
       "      <td>5809</td>\n",
       "      <td>6035</td>\n",
       "      <td>20210903</td>\n",
       "      <td>NaN</td>\n",
       "    </tr>\n",
       "    <tr>\n",
       "      <th>20210831</th>\n",
       "      <td>1호선</td>\n",
       "      <td>시청</td>\n",
       "      <td>19444</td>\n",
       "      <td>19266</td>\n",
       "      <td>20210903</td>\n",
       "      <td>NaN</td>\n",
       "    </tr>\n",
       "  </tbody>\n",
       "</table>\n",
       "<p>18638 rows × 6 columns</p>\n",
       "</div>"
      ],
      "text/plain": [
       "         사용일자  노선명     역명  승차총승객수    하차총승객수  등록일자\n",
       "20210801  중앙선   회기  10269   10305  20210804   NaN\n",
       "20210801  일산선   마두   2306    2354  20210804   NaN\n",
       "20210801  일산선  정발산   3334    3307  20210804   NaN\n",
       "20210801  일산선   주엽   3047    3044  20210804   NaN\n",
       "20210801  일산선   대화   4520    4151  20210804   NaN\n",
       "...       ...  ...    ...     ...       ...   ...\n",
       "20210831  5호선  개화산   4889    4725  20210903   NaN\n",
       "20210831  과천선  선바위   7498    6443  20210903   NaN\n",
       "20210831  1호선  서울역  35669   33406  20210903   NaN\n",
       "20210831  1호선  동묘앞   5809    6035  20210903   NaN\n",
       "20210831  1호선   시청  19444   19266  20210903   NaN\n",
       "\n",
       "[18638 rows x 6 columns]"
      ]
     },
     "execution_count": 43,
     "metadata": {},
     "output_type": "execute_result"
    }
   ],
   "source": [
    "df = pd.read_csv('C:/Users/user/Downloads/CARD_SUBWAY_MONTH_202108.csv', header=0)\n",
    "df"
   ]
  },
  {
   "cell_type": "code",
   "execution_count": 44,
   "id": "80910806-1238-4ff6-acce-0b759fe2f70c",
   "metadata": {},
   "outputs": [
    {
     "data": {
      "text/html": [
       "<div>\n",
       "<style scoped>\n",
       "    .dataframe tbody tr th:only-of-type {\n",
       "        vertical-align: middle;\n",
       "    }\n",
       "\n",
       "    .dataframe tbody tr th {\n",
       "        vertical-align: top;\n",
       "    }\n",
       "\n",
       "    .dataframe thead th {\n",
       "        text-align: right;\n",
       "    }\n",
       "</style>\n",
       "<table border=\"1\" class=\"dataframe\">\n",
       "  <thead>\n",
       "    <tr style=\"text-align: right;\">\n",
       "      <th></th>\n",
       "      <th>사용일자</th>\n",
       "      <th>노선명</th>\n",
       "      <th>역명</th>\n",
       "      <th>승차총승객수</th>\n",
       "      <th>하차총승객수</th>\n",
       "      <th>등록일자</th>\n",
       "    </tr>\n",
       "  </thead>\n",
       "  <tbody>\n",
       "    <tr>\n",
       "      <th>20210801</th>\n",
       "      <td>중앙선</td>\n",
       "      <td>회기</td>\n",
       "      <td>10269</td>\n",
       "      <td>10305</td>\n",
       "      <td>20210804</td>\n",
       "      <td>NaN</td>\n",
       "    </tr>\n",
       "    <tr>\n",
       "      <th>20210801</th>\n",
       "      <td>일산선</td>\n",
       "      <td>마두</td>\n",
       "      <td>2306</td>\n",
       "      <td>2354</td>\n",
       "      <td>20210804</td>\n",
       "      <td>NaN</td>\n",
       "    </tr>\n",
       "    <tr>\n",
       "      <th>20210801</th>\n",
       "      <td>일산선</td>\n",
       "      <td>정발산</td>\n",
       "      <td>3334</td>\n",
       "      <td>3307</td>\n",
       "      <td>20210804</td>\n",
       "      <td>NaN</td>\n",
       "    </tr>\n",
       "    <tr>\n",
       "      <th>20210801</th>\n",
       "      <td>일산선</td>\n",
       "      <td>주엽</td>\n",
       "      <td>3047</td>\n",
       "      <td>3044</td>\n",
       "      <td>20210804</td>\n",
       "      <td>NaN</td>\n",
       "    </tr>\n",
       "    <tr>\n",
       "      <th>20210801</th>\n",
       "      <td>일산선</td>\n",
       "      <td>대화</td>\n",
       "      <td>4520</td>\n",
       "      <td>4151</td>\n",
       "      <td>20210804</td>\n",
       "      <td>NaN</td>\n",
       "    </tr>\n",
       "  </tbody>\n",
       "</table>\n",
       "</div>"
      ],
      "text/plain": [
       "         사용일자  노선명     역명  승차총승객수    하차총승객수  등록일자\n",
       "20210801  중앙선   회기  10269   10305  20210804   NaN\n",
       "20210801  일산선   마두   2306    2354  20210804   NaN\n",
       "20210801  일산선  정발산   3334    3307  20210804   NaN\n",
       "20210801  일산선   주엽   3047    3044  20210804   NaN\n",
       "20210801  일산선   대화   4520    4151  20210804   NaN"
      ]
     },
     "execution_count": 44,
     "metadata": {},
     "output_type": "execute_result"
    }
   ],
   "source": [
    "df.head()"
   ]
  },
  {
   "cell_type": "code",
   "execution_count": 45,
   "id": "bd1fb598-f050-4da3-b62c-e935898f37a5",
   "metadata": {},
   "outputs": [
    {
     "data": {
      "text/html": [
       "<div>\n",
       "<style scoped>\n",
       "    .dataframe tbody tr th:only-of-type {\n",
       "        vertical-align: middle;\n",
       "    }\n",
       "\n",
       "    .dataframe tbody tr th {\n",
       "        vertical-align: top;\n",
       "    }\n",
       "\n",
       "    .dataframe thead th {\n",
       "        text-align: right;\n",
       "    }\n",
       "</style>\n",
       "<table border=\"1\" class=\"dataframe\">\n",
       "  <thead>\n",
       "    <tr style=\"text-align: right;\">\n",
       "      <th></th>\n",
       "      <th>사용일자</th>\n",
       "      <th>노선명</th>\n",
       "      <th>역명</th>\n",
       "      <th>승차총승객수</th>\n",
       "      <th>하차총승객수</th>\n",
       "      <th>등록일자</th>\n",
       "    </tr>\n",
       "  </thead>\n",
       "  <tbody>\n",
       "    <tr>\n",
       "      <th>20210831</th>\n",
       "      <td>5호선</td>\n",
       "      <td>개화산</td>\n",
       "      <td>4889</td>\n",
       "      <td>4725</td>\n",
       "      <td>20210903</td>\n",
       "      <td>NaN</td>\n",
       "    </tr>\n",
       "    <tr>\n",
       "      <th>20210831</th>\n",
       "      <td>과천선</td>\n",
       "      <td>선바위</td>\n",
       "      <td>7498</td>\n",
       "      <td>6443</td>\n",
       "      <td>20210903</td>\n",
       "      <td>NaN</td>\n",
       "    </tr>\n",
       "    <tr>\n",
       "      <th>20210831</th>\n",
       "      <td>1호선</td>\n",
       "      <td>서울역</td>\n",
       "      <td>35669</td>\n",
       "      <td>33406</td>\n",
       "      <td>20210903</td>\n",
       "      <td>NaN</td>\n",
       "    </tr>\n",
       "    <tr>\n",
       "      <th>20210831</th>\n",
       "      <td>1호선</td>\n",
       "      <td>동묘앞</td>\n",
       "      <td>5809</td>\n",
       "      <td>6035</td>\n",
       "      <td>20210903</td>\n",
       "      <td>NaN</td>\n",
       "    </tr>\n",
       "    <tr>\n",
       "      <th>20210831</th>\n",
       "      <td>1호선</td>\n",
       "      <td>시청</td>\n",
       "      <td>19444</td>\n",
       "      <td>19266</td>\n",
       "      <td>20210903</td>\n",
       "      <td>NaN</td>\n",
       "    </tr>\n",
       "  </tbody>\n",
       "</table>\n",
       "</div>"
      ],
      "text/plain": [
       "         사용일자  노선명     역명  승차총승객수    하차총승객수  등록일자\n",
       "20210831  5호선  개화산   4889    4725  20210903   NaN\n",
       "20210831  과천선  선바위   7498    6443  20210903   NaN\n",
       "20210831  1호선  서울역  35669   33406  20210903   NaN\n",
       "20210831  1호선  동묘앞   5809    6035  20210903   NaN\n",
       "20210831  1호선   시청  19444   19266  20210903   NaN"
      ]
     },
     "execution_count": 45,
     "metadata": {},
     "output_type": "execute_result"
    }
   ],
   "source": [
    "df.tail()"
   ]
  },
  {
   "cell_type": "code",
   "execution_count": 46,
   "id": "57e4ddec-2edd-49d7-aeda-c9ab11e821aa",
   "metadata": {},
   "outputs": [
    {
     "data": {
      "text/plain": [
       "(18638, 6)"
      ]
     },
     "execution_count": 46,
     "metadata": {},
     "output_type": "execute_result"
    }
   ],
   "source": [
    "df.shape"
   ]
  },
  {
   "cell_type": "code",
   "execution_count": 47,
   "id": "47a51e75-cc98-4f7e-896e-14adae283df8",
   "metadata": {},
   "outputs": [
    {
     "data": {
      "text/html": [
       "<div>\n",
       "<style scoped>\n",
       "    .dataframe tbody tr th:only-of-type {\n",
       "        vertical-align: middle;\n",
       "    }\n",
       "\n",
       "    .dataframe tbody tr th {\n",
       "        vertical-align: top;\n",
       "    }\n",
       "\n",
       "    .dataframe thead th {\n",
       "        text-align: right;\n",
       "    }\n",
       "</style>\n",
       "<table border=\"1\" class=\"dataframe\">\n",
       "  <thead>\n",
       "    <tr style=\"text-align: right;\">\n",
       "      <th></th>\n",
       "      <th>역명</th>\n",
       "      <th>승차총승객수</th>\n",
       "      <th>하차총승객수</th>\n",
       "      <th>등록일자</th>\n",
       "    </tr>\n",
       "  </thead>\n",
       "  <tbody>\n",
       "    <tr>\n",
       "      <th>count</th>\n",
       "      <td>18638.000000</td>\n",
       "      <td>18638.000000</td>\n",
       "      <td>1.863800e+04</td>\n",
       "      <td>0.0</td>\n",
       "    </tr>\n",
       "    <tr>\n",
       "      <th>mean</th>\n",
       "      <td>8233.105430</td>\n",
       "      <td>8204.264138</td>\n",
       "      <td>2.021083e+07</td>\n",
       "      <td>NaN</td>\n",
       "    </tr>\n",
       "    <tr>\n",
       "      <th>std</th>\n",
       "      <td>8220.273029</td>\n",
       "      <td>8266.678656</td>\n",
       "      <td>2.615624e+01</td>\n",
       "      <td>NaN</td>\n",
       "    </tr>\n",
       "    <tr>\n",
       "      <th>min</th>\n",
       "      <td>1.000000</td>\n",
       "      <td>0.000000</td>\n",
       "      <td>2.021080e+07</td>\n",
       "      <td>NaN</td>\n",
       "    </tr>\n",
       "    <tr>\n",
       "      <th>25%</th>\n",
       "      <td>2804.000000</td>\n",
       "      <td>2733.000000</td>\n",
       "      <td>2.021081e+07</td>\n",
       "      <td>NaN</td>\n",
       "    </tr>\n",
       "    <tr>\n",
       "      <th>50%</th>\n",
       "      <td>5863.500000</td>\n",
       "      <td>5736.500000</td>\n",
       "      <td>2.021082e+07</td>\n",
       "      <td>NaN</td>\n",
       "    </tr>\n",
       "    <tr>\n",
       "      <th>75%</th>\n",
       "      <td>10844.750000</td>\n",
       "      <td>10700.000000</td>\n",
       "      <td>2.021083e+07</td>\n",
       "      <td>NaN</td>\n",
       "    </tr>\n",
       "    <tr>\n",
       "      <th>max</th>\n",
       "      <td>75259.000000</td>\n",
       "      <td>73205.000000</td>\n",
       "      <td>2.021090e+07</td>\n",
       "      <td>NaN</td>\n",
       "    </tr>\n",
       "  </tbody>\n",
       "</table>\n",
       "</div>"
      ],
      "text/plain": [
       "                 역명        승차총승객수        하차총승객수  등록일자\n",
       "count  18638.000000  18638.000000  1.863800e+04   0.0\n",
       "mean    8233.105430   8204.264138  2.021083e+07   NaN\n",
       "std     8220.273029   8266.678656  2.615624e+01   NaN\n",
       "min        1.000000      0.000000  2.021080e+07   NaN\n",
       "25%     2804.000000   2733.000000  2.021081e+07   NaN\n",
       "50%     5863.500000   5736.500000  2.021082e+07   NaN\n",
       "75%    10844.750000  10700.000000  2.021083e+07   NaN\n",
       "max    75259.000000  73205.000000  2.021090e+07   NaN"
      ]
     },
     "execution_count": 47,
     "metadata": {},
     "output_type": "execute_result"
    }
   ],
   "source": [
    "df.describe()"
   ]
  },
  {
   "cell_type": "code",
   "execution_count": 48,
   "id": "9700064f-b10d-4f94-ad44-56f7358d12bb",
   "metadata": {},
   "outputs": [
    {
     "name": "stdout",
     "output_type": "stream",
     "text": [
      "<class 'pandas.core.frame.DataFrame'>\n",
      "Int64Index: 18638 entries, 20210801 to 20210831\n",
      "Data columns (total 6 columns):\n",
      " #   Column  Non-Null Count  Dtype  \n",
      "---  ------  --------------  -----  \n",
      " 0   사용일자    18638 non-null  object \n",
      " 1   노선명     18638 non-null  object \n",
      " 2   역명      18638 non-null  int64  \n",
      " 3   승차총승객수  18638 non-null  int64  \n",
      " 4   하차총승객수  18638 non-null  int64  \n",
      " 5   등록일자    0 non-null      float64\n",
      "dtypes: float64(1), int64(3), object(2)\n",
      "memory usage: 1019.3+ KB\n"
     ]
    }
   ],
   "source": [
    "df.info()"
   ]
  },
  {
   "cell_type": "code",
   "execution_count": 50,
   "id": "11af4e87-025d-4bce-868d-cf306b05c589",
   "metadata": {},
   "outputs": [],
   "source": [
    "test=df.T"
   ]
  },
  {
   "cell_type": "code",
   "execution_count": 51,
   "id": "da342b9c-8492-4b4c-b572-b5ec8ba75e78",
   "metadata": {},
   "outputs": [
    {
     "name": "stdout",
     "output_type": "stream",
     "text": [
      "<class 'pandas.core.frame.DataFrame'>\n",
      "Index: 6 entries, 사용일자 to 등록일자\n",
      "Columns: 18638 entries, 20210801 to 20210831\n",
      "dtypes: object(18638)\n",
      "memory usage: 873.9+ KB\n"
     ]
    }
   ],
   "source": [
    "test.info()"
   ]
  },
  {
   "cell_type": "code",
   "execution_count": 52,
   "id": "fea9a141-59b2-4f0b-a3ff-50023f31797c",
   "metadata": {},
   "outputs": [
    {
     "data": {
      "text/html": [
       "<div>\n",
       "<style scoped>\n",
       "    .dataframe tbody tr th:only-of-type {\n",
       "        vertical-align: middle;\n",
       "    }\n",
       "\n",
       "    .dataframe tbody tr th {\n",
       "        vertical-align: top;\n",
       "    }\n",
       "\n",
       "    .dataframe thead th {\n",
       "        text-align: right;\n",
       "    }\n",
       "</style>\n",
       "<table border=\"1\" class=\"dataframe\">\n",
       "  <thead>\n",
       "    <tr style=\"text-align: right;\">\n",
       "      <th></th>\n",
       "      <th>사용일자</th>\n",
       "      <th>노선명</th>\n",
       "      <th>역명</th>\n",
       "      <th>승차총승객수</th>\n",
       "      <th>하차총승객수</th>\n",
       "      <th>등록일자</th>\n",
       "    </tr>\n",
       "  </thead>\n",
       "  <tbody>\n",
       "    <tr>\n",
       "      <th>20210801</th>\n",
       "      <td>중앙선</td>\n",
       "      <td>회기</td>\n",
       "      <td>10269</td>\n",
       "      <td>10305</td>\n",
       "      <td>20210804</td>\n",
       "      <td>NaN</td>\n",
       "    </tr>\n",
       "    <tr>\n",
       "      <th>20210801</th>\n",
       "      <td>일산선</td>\n",
       "      <td>마두</td>\n",
       "      <td>2306</td>\n",
       "      <td>2354</td>\n",
       "      <td>20210804</td>\n",
       "      <td>NaN</td>\n",
       "    </tr>\n",
       "    <tr>\n",
       "      <th>20210801</th>\n",
       "      <td>일산선</td>\n",
       "      <td>정발산</td>\n",
       "      <td>3334</td>\n",
       "      <td>3307</td>\n",
       "      <td>20210804</td>\n",
       "      <td>NaN</td>\n",
       "    </tr>\n",
       "    <tr>\n",
       "      <th>20210801</th>\n",
       "      <td>일산선</td>\n",
       "      <td>주엽</td>\n",
       "      <td>3047</td>\n",
       "      <td>3044</td>\n",
       "      <td>20210804</td>\n",
       "      <td>NaN</td>\n",
       "    </tr>\n",
       "    <tr>\n",
       "      <th>20210801</th>\n",
       "      <td>일산선</td>\n",
       "      <td>대화</td>\n",
       "      <td>4520</td>\n",
       "      <td>4151</td>\n",
       "      <td>20210804</td>\n",
       "      <td>NaN</td>\n",
       "    </tr>\n",
       "    <tr>\n",
       "      <th>20210801</th>\n",
       "      <td>장항선</td>\n",
       "      <td>봉명</td>\n",
       "      <td>369</td>\n",
       "      <td>369</td>\n",
       "      <td>20210804</td>\n",
       "      <td>NaN</td>\n",
       "    </tr>\n",
       "    <tr>\n",
       "      <th>20210801</th>\n",
       "      <td>장항선</td>\n",
       "      <td>쌍용(나사렛대)</td>\n",
       "      <td>801</td>\n",
       "      <td>787</td>\n",
       "      <td>20210804</td>\n",
       "      <td>NaN</td>\n",
       "    </tr>\n",
       "    <tr>\n",
       "      <th>20210801</th>\n",
       "      <td>장항선</td>\n",
       "      <td>아산</td>\n",
       "      <td>1950</td>\n",
       "      <td>1505</td>\n",
       "      <td>20210804</td>\n",
       "      <td>NaN</td>\n",
       "    </tr>\n",
       "  </tbody>\n",
       "</table>\n",
       "</div>"
      ],
      "text/plain": [
       "         사용일자       노선명     역명  승차총승객수    하차총승객수  등록일자\n",
       "20210801  중앙선        회기  10269   10305  20210804   NaN\n",
       "20210801  일산선        마두   2306    2354  20210804   NaN\n",
       "20210801  일산선       정발산   3334    3307  20210804   NaN\n",
       "20210801  일산선        주엽   3047    3044  20210804   NaN\n",
       "20210801  일산선        대화   4520    4151  20210804   NaN\n",
       "20210801  장항선        봉명    369     369  20210804   NaN\n",
       "20210801  장항선  쌍용(나사렛대)    801     787  20210804   NaN\n",
       "20210801  장항선        아산   1950    1505  20210804   NaN"
      ]
     },
     "execution_count": 52,
     "metadata": {},
     "output_type": "execute_result"
    }
   ],
   "source": [
    "df.head(8)"
   ]
  },
  {
   "cell_type": "code",
   "execution_count": 53,
   "id": "c0412610-8c47-45a2-b4c5-3cb12285fce6",
   "metadata": {},
   "outputs": [
    {
     "data": {
      "text/html": [
       "<div>\n",
       "<style scoped>\n",
       "    .dataframe tbody tr th:only-of-type {\n",
       "        vertical-align: middle;\n",
       "    }\n",
       "\n",
       "    .dataframe tbody tr th {\n",
       "        vertical-align: top;\n",
       "    }\n",
       "\n",
       "    .dataframe thead th {\n",
       "        text-align: right;\n",
       "    }\n",
       "</style>\n",
       "<table border=\"1\" class=\"dataframe\">\n",
       "  <thead>\n",
       "    <tr style=\"text-align: right;\">\n",
       "      <th></th>\n",
       "      <th>사용일자</th>\n",
       "      <th>노선명</th>\n",
       "      <th>역명</th>\n",
       "      <th>승차총승객수</th>\n",
       "      <th>하차총승객수</th>\n",
       "      <th>등록일자</th>\n",
       "    </tr>\n",
       "  </thead>\n",
       "  <tbody>\n",
       "    <tr>\n",
       "      <th>20210831</th>\n",
       "      <td>5호선</td>\n",
       "      <td>길동</td>\n",
       "      <td>7289</td>\n",
       "      <td>7519</td>\n",
       "      <td>20210903</td>\n",
       "      <td>NaN</td>\n",
       "    </tr>\n",
       "    <tr>\n",
       "      <th>20210831</th>\n",
       "      <td>1호선</td>\n",
       "      <td>동대문</td>\n",
       "      <td>9571</td>\n",
       "      <td>9052</td>\n",
       "      <td>20210903</td>\n",
       "      <td>NaN</td>\n",
       "    </tr>\n",
       "    <tr>\n",
       "      <th>20210831</th>\n",
       "      <td>5호선</td>\n",
       "      <td>개화산</td>\n",
       "      <td>4889</td>\n",
       "      <td>4725</td>\n",
       "      <td>20210903</td>\n",
       "      <td>NaN</td>\n",
       "    </tr>\n",
       "    <tr>\n",
       "      <th>20210831</th>\n",
       "      <td>과천선</td>\n",
       "      <td>선바위</td>\n",
       "      <td>7498</td>\n",
       "      <td>6443</td>\n",
       "      <td>20210903</td>\n",
       "      <td>NaN</td>\n",
       "    </tr>\n",
       "    <tr>\n",
       "      <th>20210831</th>\n",
       "      <td>1호선</td>\n",
       "      <td>서울역</td>\n",
       "      <td>35669</td>\n",
       "      <td>33406</td>\n",
       "      <td>20210903</td>\n",
       "      <td>NaN</td>\n",
       "    </tr>\n",
       "    <tr>\n",
       "      <th>20210831</th>\n",
       "      <td>1호선</td>\n",
       "      <td>동묘앞</td>\n",
       "      <td>5809</td>\n",
       "      <td>6035</td>\n",
       "      <td>20210903</td>\n",
       "      <td>NaN</td>\n",
       "    </tr>\n",
       "    <tr>\n",
       "      <th>20210831</th>\n",
       "      <td>1호선</td>\n",
       "      <td>시청</td>\n",
       "      <td>19444</td>\n",
       "      <td>19266</td>\n",
       "      <td>20210903</td>\n",
       "      <td>NaN</td>\n",
       "    </tr>\n",
       "  </tbody>\n",
       "</table>\n",
       "</div>"
      ],
      "text/plain": [
       "         사용일자  노선명     역명  승차총승객수    하차총승객수  등록일자\n",
       "20210831  5호선   길동   7289    7519  20210903   NaN\n",
       "20210831  1호선  동대문   9571    9052  20210903   NaN\n",
       "20210831  5호선  개화산   4889    4725  20210903   NaN\n",
       "20210831  과천선  선바위   7498    6443  20210903   NaN\n",
       "20210831  1호선  서울역  35669   33406  20210903   NaN\n",
       "20210831  1호선  동묘앞   5809    6035  20210903   NaN\n",
       "20210831  1호선   시청  19444   19266  20210903   NaN"
      ]
     },
     "execution_count": 53,
     "metadata": {},
     "output_type": "execute_result"
    }
   ],
   "source": [
    "df.tail(7)"
   ]
  },
  {
   "cell_type": "code",
   "execution_count": 54,
   "id": "c9748497-29d5-42a3-b4d3-2f125b83c0db",
   "metadata": {},
   "outputs": [
    {
     "data": {
      "text/html": [
       "<div>\n",
       "<style scoped>\n",
       "    .dataframe tbody tr th:only-of-type {\n",
       "        vertical-align: middle;\n",
       "    }\n",
       "\n",
       "    .dataframe tbody tr th {\n",
       "        vertical-align: top;\n",
       "    }\n",
       "\n",
       "    .dataframe thead th {\n",
       "        text-align: right;\n",
       "    }\n",
       "</style>\n",
       "<table border=\"1\" class=\"dataframe\">\n",
       "  <thead>\n",
       "    <tr style=\"text-align: right;\">\n",
       "      <th></th>\n",
       "      <th>역명</th>\n",
       "      <th>승차총승객수</th>\n",
       "      <th>하차총승객수</th>\n",
       "      <th>등록일자</th>\n",
       "    </tr>\n",
       "  </thead>\n",
       "  <tbody>\n",
       "    <tr>\n",
       "      <th>count</th>\n",
       "      <td>18638.000000</td>\n",
       "      <td>18638.000000</td>\n",
       "      <td>1.863800e+04</td>\n",
       "      <td>0.0</td>\n",
       "    </tr>\n",
       "    <tr>\n",
       "      <th>mean</th>\n",
       "      <td>8233.105430</td>\n",
       "      <td>8204.264138</td>\n",
       "      <td>2.021083e+07</td>\n",
       "      <td>NaN</td>\n",
       "    </tr>\n",
       "    <tr>\n",
       "      <th>std</th>\n",
       "      <td>8220.273029</td>\n",
       "      <td>8266.678656</td>\n",
       "      <td>2.615624e+01</td>\n",
       "      <td>NaN</td>\n",
       "    </tr>\n",
       "    <tr>\n",
       "      <th>min</th>\n",
       "      <td>1.000000</td>\n",
       "      <td>0.000000</td>\n",
       "      <td>2.021080e+07</td>\n",
       "      <td>NaN</td>\n",
       "    </tr>\n",
       "    <tr>\n",
       "      <th>25%</th>\n",
       "      <td>2804.000000</td>\n",
       "      <td>2733.000000</td>\n",
       "      <td>2.021081e+07</td>\n",
       "      <td>NaN</td>\n",
       "    </tr>\n",
       "    <tr>\n",
       "      <th>50%</th>\n",
       "      <td>5863.500000</td>\n",
       "      <td>5736.500000</td>\n",
       "      <td>2.021082e+07</td>\n",
       "      <td>NaN</td>\n",
       "    </tr>\n",
       "    <tr>\n",
       "      <th>75%</th>\n",
       "      <td>10844.750000</td>\n",
       "      <td>10700.000000</td>\n",
       "      <td>2.021083e+07</td>\n",
       "      <td>NaN</td>\n",
       "    </tr>\n",
       "    <tr>\n",
       "      <th>max</th>\n",
       "      <td>75259.000000</td>\n",
       "      <td>73205.000000</td>\n",
       "      <td>2.021090e+07</td>\n",
       "      <td>NaN</td>\n",
       "    </tr>\n",
       "  </tbody>\n",
       "</table>\n",
       "</div>"
      ],
      "text/plain": [
       "                 역명        승차총승객수        하차총승객수  등록일자\n",
       "count  18638.000000  18638.000000  1.863800e+04   0.0\n",
       "mean    8233.105430   8204.264138  2.021083e+07   NaN\n",
       "std     8220.273029   8266.678656  2.615624e+01   NaN\n",
       "min        1.000000      0.000000  2.021080e+07   NaN\n",
       "25%     2804.000000   2733.000000  2.021081e+07   NaN\n",
       "50%     5863.500000   5736.500000  2.021082e+07   NaN\n",
       "75%    10844.750000  10700.000000  2.021083e+07   NaN\n",
       "max    75259.000000  73205.000000  2.021090e+07   NaN"
      ]
     },
     "execution_count": 54,
     "metadata": {},
     "output_type": "execute_result"
    }
   ],
   "source": [
    "df.describe()"
   ]
  },
  {
   "cell_type": "code",
   "execution_count": 55,
   "id": "e4552164-0c42-474b-8416-79cddf0b2e34",
   "metadata": {},
   "outputs": [
    {
     "data": {
      "text/html": [
       "<div>\n",
       "<style scoped>\n",
       "    .dataframe tbody tr th:only-of-type {\n",
       "        vertical-align: middle;\n",
       "    }\n",
       "\n",
       "    .dataframe tbody tr th {\n",
       "        vertical-align: top;\n",
       "    }\n",
       "\n",
       "    .dataframe thead th {\n",
       "        text-align: right;\n",
       "    }\n",
       "</style>\n",
       "<table border=\"1\" class=\"dataframe\">\n",
       "  <thead>\n",
       "    <tr style=\"text-align: right;\">\n",
       "      <th></th>\n",
       "      <th>사용일자</th>\n",
       "      <th>노선명</th>\n",
       "      <th>역명</th>\n",
       "      <th>승차총승객수</th>\n",
       "      <th>하차총승객수</th>\n",
       "      <th>등록일자</th>\n",
       "    </tr>\n",
       "  </thead>\n",
       "  <tbody>\n",
       "    <tr>\n",
       "      <th>0</th>\n",
       "      <td>20210801</td>\n",
       "      <td>중앙선</td>\n",
       "      <td>회기</td>\n",
       "      <td>10269</td>\n",
       "      <td>10305</td>\n",
       "      <td>20210804</td>\n",
       "    </tr>\n",
       "    <tr>\n",
       "      <th>1</th>\n",
       "      <td>20210801</td>\n",
       "      <td>일산선</td>\n",
       "      <td>마두</td>\n",
       "      <td>2306</td>\n",
       "      <td>2354</td>\n",
       "      <td>20210804</td>\n",
       "    </tr>\n",
       "    <tr>\n",
       "      <th>2</th>\n",
       "      <td>20210801</td>\n",
       "      <td>일산선</td>\n",
       "      <td>정발산</td>\n",
       "      <td>3334</td>\n",
       "      <td>3307</td>\n",
       "      <td>20210804</td>\n",
       "    </tr>\n",
       "    <tr>\n",
       "      <th>3</th>\n",
       "      <td>20210801</td>\n",
       "      <td>일산선</td>\n",
       "      <td>주엽</td>\n",
       "      <td>3047</td>\n",
       "      <td>3044</td>\n",
       "      <td>20210804</td>\n",
       "    </tr>\n",
       "    <tr>\n",
       "      <th>4</th>\n",
       "      <td>20210801</td>\n",
       "      <td>일산선</td>\n",
       "      <td>대화</td>\n",
       "      <td>4520</td>\n",
       "      <td>4151</td>\n",
       "      <td>20210804</td>\n",
       "    </tr>\n",
       "    <tr>\n",
       "      <th>...</th>\n",
       "      <td>...</td>\n",
       "      <td>...</td>\n",
       "      <td>...</td>\n",
       "      <td>...</td>\n",
       "      <td>...</td>\n",
       "      <td>...</td>\n",
       "    </tr>\n",
       "    <tr>\n",
       "      <th>18633</th>\n",
       "      <td>20210831</td>\n",
       "      <td>5호선</td>\n",
       "      <td>개화산</td>\n",
       "      <td>4889</td>\n",
       "      <td>4725</td>\n",
       "      <td>20210903</td>\n",
       "    </tr>\n",
       "    <tr>\n",
       "      <th>18634</th>\n",
       "      <td>20210831</td>\n",
       "      <td>과천선</td>\n",
       "      <td>선바위</td>\n",
       "      <td>7498</td>\n",
       "      <td>6443</td>\n",
       "      <td>20210903</td>\n",
       "    </tr>\n",
       "    <tr>\n",
       "      <th>18635</th>\n",
       "      <td>20210831</td>\n",
       "      <td>1호선</td>\n",
       "      <td>서울역</td>\n",
       "      <td>35669</td>\n",
       "      <td>33406</td>\n",
       "      <td>20210903</td>\n",
       "    </tr>\n",
       "    <tr>\n",
       "      <th>18636</th>\n",
       "      <td>20210831</td>\n",
       "      <td>1호선</td>\n",
       "      <td>동묘앞</td>\n",
       "      <td>5809</td>\n",
       "      <td>6035</td>\n",
       "      <td>20210903</td>\n",
       "    </tr>\n",
       "    <tr>\n",
       "      <th>18637</th>\n",
       "      <td>20210831</td>\n",
       "      <td>1호선</td>\n",
       "      <td>시청</td>\n",
       "      <td>19444</td>\n",
       "      <td>19266</td>\n",
       "      <td>20210903</td>\n",
       "    </tr>\n",
       "  </tbody>\n",
       "</table>\n",
       "<p>18638 rows × 6 columns</p>\n",
       "</div>"
      ],
      "text/plain": [
       "           사용일자  노선명   역명  승차총승객수  하차총승객수      등록일자\n",
       "0      20210801  중앙선   회기   10269   10305  20210804\n",
       "1      20210801  일산선   마두    2306    2354  20210804\n",
       "2      20210801  일산선  정발산    3334    3307  20210804\n",
       "3      20210801  일산선   주엽    3047    3044  20210804\n",
       "4      20210801  일산선   대화    4520    4151  20210804\n",
       "...         ...  ...  ...     ...     ...       ...\n",
       "18633  20210831  5호선  개화산    4889    4725  20210903\n",
       "18634  20210831  과천선  선바위    7498    6443  20210903\n",
       "18635  20210831  1호선  서울역   35669   33406  20210903\n",
       "18636  20210831  1호선  동묘앞    5809    6035  20210903\n",
       "18637  20210831  1호선   시청   19444   19266  20210903\n",
       "\n",
       "[18638 rows x 6 columns]"
      ]
     },
     "execution_count": 55,
     "metadata": {},
     "output_type": "execute_result"
    }
   ],
   "source": [
    "df = pd.read_csv('C:/Users/user/Downloads/CARD_SUBWAY_MONTH_202108.csv', index_col = False)\n",
    "df"
   ]
  },
  {
   "cell_type": "code",
   "execution_count": 56,
   "id": "492a6db5-9120-4e33-8cce-5c2e190659db",
   "metadata": {},
   "outputs": [
    {
     "data": {
      "text/html": [
       "<div>\n",
       "<style scoped>\n",
       "    .dataframe tbody tr th:only-of-type {\n",
       "        vertical-align: middle;\n",
       "    }\n",
       "\n",
       "    .dataframe tbody tr th {\n",
       "        vertical-align: top;\n",
       "    }\n",
       "\n",
       "    .dataframe thead th {\n",
       "        text-align: right;\n",
       "    }\n",
       "</style>\n",
       "<table border=\"1\" class=\"dataframe\">\n",
       "  <thead>\n",
       "    <tr style=\"text-align: right;\">\n",
       "      <th></th>\n",
       "      <th>사용일자</th>\n",
       "      <th>노선명</th>\n",
       "      <th>역명</th>\n",
       "      <th>승차총승객수</th>\n",
       "      <th>하차총승객수</th>\n",
       "      <th>등록일자</th>\n",
       "    </tr>\n",
       "  </thead>\n",
       "  <tbody>\n",
       "    <tr>\n",
       "      <th>0</th>\n",
       "      <td>20210801</td>\n",
       "      <td>중앙선</td>\n",
       "      <td>회기</td>\n",
       "      <td>10269</td>\n",
       "      <td>10305</td>\n",
       "      <td>20210804</td>\n",
       "    </tr>\n",
       "    <tr>\n",
       "      <th>1</th>\n",
       "      <td>20210801</td>\n",
       "      <td>일산선</td>\n",
       "      <td>마두</td>\n",
       "      <td>2306</td>\n",
       "      <td>2354</td>\n",
       "      <td>20210804</td>\n",
       "    </tr>\n",
       "    <tr>\n",
       "      <th>2</th>\n",
       "      <td>20210801</td>\n",
       "      <td>일산선</td>\n",
       "      <td>정발산</td>\n",
       "      <td>3334</td>\n",
       "      <td>3307</td>\n",
       "      <td>20210804</td>\n",
       "    </tr>\n",
       "    <tr>\n",
       "      <th>3</th>\n",
       "      <td>20210801</td>\n",
       "      <td>일산선</td>\n",
       "      <td>주엽</td>\n",
       "      <td>3047</td>\n",
       "      <td>3044</td>\n",
       "      <td>20210804</td>\n",
       "    </tr>\n",
       "    <tr>\n",
       "      <th>4</th>\n",
       "      <td>20210801</td>\n",
       "      <td>일산선</td>\n",
       "      <td>대화</td>\n",
       "      <td>4520</td>\n",
       "      <td>4151</td>\n",
       "      <td>20210804</td>\n",
       "    </tr>\n",
       "  </tbody>\n",
       "</table>\n",
       "</div>"
      ],
      "text/plain": [
       "       사용일자  노선명   역명  승차총승객수  하차총승객수      등록일자\n",
       "0  20210801  중앙선   회기   10269   10305  20210804\n",
       "1  20210801  일산선   마두    2306    2354  20210804\n",
       "2  20210801  일산선  정발산    3334    3307  20210804\n",
       "3  20210801  일산선   주엽    3047    3044  20210804\n",
       "4  20210801  일산선   대화    4520    4151  20210804"
      ]
     },
     "execution_count": 56,
     "metadata": {},
     "output_type": "execute_result"
    }
   ],
   "source": [
    "df.head()"
   ]
  },
  {
   "cell_type": "code",
   "execution_count": 57,
   "id": "adfb15a0-43c2-4e53-8103-4ad3d13525c4",
   "metadata": {},
   "outputs": [
    {
     "data": {
      "text/plain": [
       "(18638, 6)"
      ]
     },
     "execution_count": 57,
     "metadata": {},
     "output_type": "execute_result"
    }
   ],
   "source": [
    "df.shape"
   ]
  },
  {
   "cell_type": "code",
   "execution_count": 58,
   "id": "c3f73b38-fad3-4b28-9d43-63e30c24ccbb",
   "metadata": {},
   "outputs": [
    {
     "data": {
      "text/html": [
       "<div>\n",
       "<style scoped>\n",
       "    .dataframe tbody tr th:only-of-type {\n",
       "        vertical-align: middle;\n",
       "    }\n",
       "\n",
       "    .dataframe tbody tr th {\n",
       "        vertical-align: top;\n",
       "    }\n",
       "\n",
       "    .dataframe thead th {\n",
       "        text-align: right;\n",
       "    }\n",
       "</style>\n",
       "<table border=\"1\" class=\"dataframe\">\n",
       "  <thead>\n",
       "    <tr style=\"text-align: right;\">\n",
       "      <th></th>\n",
       "      <th>사용일자</th>\n",
       "      <th>승차총승객수</th>\n",
       "      <th>하차총승객수</th>\n",
       "      <th>등록일자</th>\n",
       "    </tr>\n",
       "  </thead>\n",
       "  <tbody>\n",
       "    <tr>\n",
       "      <th>count</th>\n",
       "      <td>1.863800e+04</td>\n",
       "      <td>18638.000000</td>\n",
       "      <td>18638.000000</td>\n",
       "      <td>1.863800e+04</td>\n",
       "    </tr>\n",
       "    <tr>\n",
       "      <th>mean</th>\n",
       "      <td>2.021082e+07</td>\n",
       "      <td>8233.105430</td>\n",
       "      <td>8204.264138</td>\n",
       "      <td>2.021083e+07</td>\n",
       "    </tr>\n",
       "    <tr>\n",
       "      <th>std</th>\n",
       "      <td>8.946719e+00</td>\n",
       "      <td>8220.273029</td>\n",
       "      <td>8266.678656</td>\n",
       "      <td>2.615624e+01</td>\n",
       "    </tr>\n",
       "    <tr>\n",
       "      <th>min</th>\n",
       "      <td>2.021080e+07</td>\n",
       "      <td>1.000000</td>\n",
       "      <td>0.000000</td>\n",
       "      <td>2.021080e+07</td>\n",
       "    </tr>\n",
       "    <tr>\n",
       "      <th>25%</th>\n",
       "      <td>2.021081e+07</td>\n",
       "      <td>2804.000000</td>\n",
       "      <td>2733.000000</td>\n",
       "      <td>2.021081e+07</td>\n",
       "    </tr>\n",
       "    <tr>\n",
       "      <th>50%</th>\n",
       "      <td>2.021082e+07</td>\n",
       "      <td>5863.500000</td>\n",
       "      <td>5736.500000</td>\n",
       "      <td>2.021082e+07</td>\n",
       "    </tr>\n",
       "    <tr>\n",
       "      <th>75%</th>\n",
       "      <td>2.021082e+07</td>\n",
       "      <td>10844.750000</td>\n",
       "      <td>10700.000000</td>\n",
       "      <td>2.021083e+07</td>\n",
       "    </tr>\n",
       "    <tr>\n",
       "      <th>max</th>\n",
       "      <td>2.021083e+07</td>\n",
       "      <td>75259.000000</td>\n",
       "      <td>73205.000000</td>\n",
       "      <td>2.021090e+07</td>\n",
       "    </tr>\n",
       "  </tbody>\n",
       "</table>\n",
       "</div>"
      ],
      "text/plain": [
       "               사용일자        승차총승객수        하차총승객수          등록일자\n",
       "count  1.863800e+04  18638.000000  18638.000000  1.863800e+04\n",
       "mean   2.021082e+07   8233.105430   8204.264138  2.021083e+07\n",
       "std    8.946719e+00   8220.273029   8266.678656  2.615624e+01\n",
       "min    2.021080e+07      1.000000      0.000000  2.021080e+07\n",
       "25%    2.021081e+07   2804.000000   2733.000000  2.021081e+07\n",
       "50%    2.021082e+07   5863.500000   5736.500000  2.021082e+07\n",
       "75%    2.021082e+07  10844.750000  10700.000000  2.021083e+07\n",
       "max    2.021083e+07  75259.000000  73205.000000  2.021090e+07"
      ]
     },
     "execution_count": 58,
     "metadata": {},
     "output_type": "execute_result"
    }
   ],
   "source": [
    "df.describe()"
   ]
  },
  {
   "cell_type": "code",
   "execution_count": 59,
   "id": "c6c8225f-112d-4eda-b7b9-e6865a7aa475",
   "metadata": {},
   "outputs": [
    {
     "name": "stdout",
     "output_type": "stream",
     "text": [
      "<class 'pandas.core.frame.DataFrame'>\n",
      "RangeIndex: 18638 entries, 0 to 18637\n",
      "Data columns (total 6 columns):\n",
      " #   Column  Non-Null Count  Dtype \n",
      "---  ------  --------------  ----- \n",
      " 0   사용일자    18638 non-null  int64 \n",
      " 1   노선명     18638 non-null  object\n",
      " 2   역명      18638 non-null  object\n",
      " 3   승차총승객수  18638 non-null  int64 \n",
      " 4   하차총승객수  18638 non-null  int64 \n",
      " 5   등록일자    18638 non-null  int64 \n",
      "dtypes: int64(4), object(2)\n",
      "memory usage: 873.8+ KB\n"
     ]
    }
   ],
   "source": [
    "df.info()"
   ]
  },
  {
   "cell_type": "code",
   "execution_count": 60,
   "id": "a96c7ee4-532e-497b-a236-d7c8655c53eb",
   "metadata": {},
   "outputs": [
    {
     "data": {
      "text/plain": [
       "array(['중앙선', '일산선', '장항선', '우이신설선', '안산선', '수인선', '분당선', '과천선',\n",
       "       '공항철도 1호선', '경춘선', '경인선', '경의선', '경원선', '경부선', '경강선', '9호선2~3단계',\n",
       "       '9호선', '8호선', '7호선', '6호선', '5호선', '4호선', '3호선', '2호선', '1호선'],\n",
       "      dtype=object)"
      ]
     },
     "execution_count": 60,
     "metadata": {},
     "output_type": "execute_result"
    }
   ],
   "source": [
    "df['노선명'].unique()"
   ]
  },
  {
   "cell_type": "code",
   "execution_count": 61,
   "id": "c1c53e68-4b8f-40f7-b99e-173fba600953",
   "metadata": {},
   "outputs": [
    {
     "data": {
      "text/plain": [
       "5호선         1736\n",
       "7호선         1581\n",
       "2호선         1550\n",
       "경부선         1209\n",
       "6호선         1162\n",
       "분당선         1065\n",
       "3호선         1041\n",
       "경원선          905\n",
       "경의선          822\n",
       "4호선          806\n",
       "9호선          775\n",
       "중앙선          651\n",
       "경인선          620\n",
       "경춘선          589\n",
       "수인선          558\n",
       "8호선          527\n",
       "공항철도 1호선     434\n",
       "우이신설선        403\n",
       "9호선2~3단계     403\n",
       "안산선          403\n",
       "경강선          341\n",
       "일산선          313\n",
       "1호선          310\n",
       "과천선          248\n",
       "장항선          186\n",
       "Name: 노선명, dtype: int64"
      ]
     },
     "execution_count": 61,
     "metadata": {},
     "output_type": "execute_result"
    }
   ],
   "source": [
    "df['노선명'].value_counts()"
   ]
  },
  {
   "cell_type": "code",
   "execution_count": 62,
   "id": "b6e9d53f-609f-4d60-998a-3ac0950597c2",
   "metadata": {},
   "outputs": [],
   "source": [
    "# gmr...  ;ㅅ;\n",
    "\n",
    "\n",
    "\n",
    "\n",
    "#         _______________________________\n",
    "#    ;v; < 난 찌질이야......  인사도 못해..|\n",
    "#        |______________________________|\n",
    "\n",
    "#            ___________________\n",
    "#      @_@ < 다음에 잘하면 되지!! |\n",
    "#           \\___________________|   \n",
    "    \n",
    "#           _________________________________________\n",
    "#      ;v; < 그 생각만 지금 며칠째하고 있는지 알아...?  |\n",
    "#          |________________________________________|    \n",
    "\n",
    "       \n",
    "      \n"
   ]
  },
  {
   "cell_type": "code",
   "execution_count": 63,
   "id": "7eb40533-be22-4b96-bbf4-c08c9ae51ea0",
   "metadata": {},
   "outputs": [
    {
     "data": {
      "text/html": [
       "<div>\n",
       "<style scoped>\n",
       "    .dataframe tbody tr th:only-of-type {\n",
       "        vertical-align: middle;\n",
       "    }\n",
       "\n",
       "    .dataframe tbody tr th {\n",
       "        vertical-align: top;\n",
       "    }\n",
       "\n",
       "    .dataframe thead th {\n",
       "        text-align: right;\n",
       "    }\n",
       "</style>\n",
       "<table border=\"1\" class=\"dataframe\">\n",
       "  <thead>\n",
       "    <tr style=\"text-align: right;\">\n",
       "      <th></th>\n",
       "      <th>사용일자</th>\n",
       "      <th>노선명</th>\n",
       "      <th>역명</th>\n",
       "      <th>승차총승객수</th>\n",
       "      <th>하차총승객수</th>\n",
       "      <th>등록일자</th>\n",
       "    </tr>\n",
       "  </thead>\n",
       "  <tbody>\n",
       "    <tr>\n",
       "      <th>11450</th>\n",
       "      <td>20210820</td>\n",
       "      <td>2호선</td>\n",
       "      <td>강남</td>\n",
       "      <td>75259</td>\n",
       "      <td>73070</td>\n",
       "      <td>20210823</td>\n",
       "    </tr>\n",
       "    <tr>\n",
       "      <th>16209</th>\n",
       "      <td>20210827</td>\n",
       "      <td>2호선</td>\n",
       "      <td>강남</td>\n",
       "      <td>74489</td>\n",
       "      <td>73205</td>\n",
       "      <td>20210830</td>\n",
       "    </tr>\n",
       "    <tr>\n",
       "      <th>5947</th>\n",
       "      <td>20210810</td>\n",
       "      <td>2호선</td>\n",
       "      <td>강남</td>\n",
       "      <td>74307</td>\n",
       "      <td>72076</td>\n",
       "      <td>20210813</td>\n",
       "    </tr>\n",
       "    <tr>\n",
       "      <th>14970</th>\n",
       "      <td>20210825</td>\n",
       "      <td>2호선</td>\n",
       "      <td>강남</td>\n",
       "      <td>73704</td>\n",
       "      <td>71554</td>\n",
       "      <td>20210828</td>\n",
       "    </tr>\n",
       "    <tr>\n",
       "      <th>9644</th>\n",
       "      <td>20210817</td>\n",
       "      <td>2호선</td>\n",
       "      <td>강남</td>\n",
       "      <td>73578</td>\n",
       "      <td>70997</td>\n",
       "      <td>20210820</td>\n",
       "    </tr>\n",
       "    <tr>\n",
       "      <th>...</th>\n",
       "      <td>...</td>\n",
       "      <td>...</td>\n",
       "      <td>...</td>\n",
       "      <td>...</td>\n",
       "      <td>...</td>\n",
       "      <td>...</td>\n",
       "    </tr>\n",
       "    <tr>\n",
       "      <th>12624</th>\n",
       "      <td>20210822</td>\n",
       "      <td>경원선</td>\n",
       "      <td>창동</td>\n",
       "      <td>1</td>\n",
       "      <td>0</td>\n",
       "      <td>20210825</td>\n",
       "    </tr>\n",
       "    <tr>\n",
       "      <th>10635</th>\n",
       "      <td>20210818</td>\n",
       "      <td>6호선</td>\n",
       "      <td>연신내</td>\n",
       "      <td>1</td>\n",
       "      <td>0</td>\n",
       "      <td>20210821</td>\n",
       "    </tr>\n",
       "    <tr>\n",
       "      <th>10742</th>\n",
       "      <td>20210818</td>\n",
       "      <td>3호선</td>\n",
       "      <td>충무로</td>\n",
       "      <td>1</td>\n",
       "      <td>0</td>\n",
       "      <td>20210821</td>\n",
       "    </tr>\n",
       "    <tr>\n",
       "      <th>18436</th>\n",
       "      <td>20210831</td>\n",
       "      <td>경원선</td>\n",
       "      <td>창동</td>\n",
       "      <td>1</td>\n",
       "      <td>0</td>\n",
       "      <td>20210903</td>\n",
       "    </tr>\n",
       "    <tr>\n",
       "      <th>13274</th>\n",
       "      <td>20210823</td>\n",
       "      <td>3호선</td>\n",
       "      <td>충무로</td>\n",
       "      <td>1</td>\n",
       "      <td>0</td>\n",
       "      <td>20210826</td>\n",
       "    </tr>\n",
       "  </tbody>\n",
       "</table>\n",
       "<p>18638 rows × 6 columns</p>\n",
       "</div>"
      ],
      "text/plain": [
       "           사용일자  노선명   역명  승차총승객수  하차총승객수      등록일자\n",
       "11450  20210820  2호선   강남   75259   73070  20210823\n",
       "16209  20210827  2호선   강남   74489   73205  20210830\n",
       "5947   20210810  2호선   강남   74307   72076  20210813\n",
       "14970  20210825  2호선   강남   73704   71554  20210828\n",
       "9644   20210817  2호선   강남   73578   70997  20210820\n",
       "...         ...  ...  ...     ...     ...       ...\n",
       "12624  20210822  경원선   창동       1       0  20210825\n",
       "10635  20210818  6호선  연신내       1       0  20210821\n",
       "10742  20210818  3호선  충무로       1       0  20210821\n",
       "18436  20210831  경원선   창동       1       0  20210903\n",
       "13274  20210823  3호선  충무로       1       0  20210826\n",
       "\n",
       "[18638 rows x 6 columns]"
      ]
     },
     "execution_count": 63,
     "metadata": {},
     "output_type": "execute_result"
    }
   ],
   "source": [
    "df.sort_values(by=['승차총승객수'], ascending=False)"
   ]
  },
  {
   "cell_type": "code",
   "execution_count": 65,
   "id": "daf134f9-1c7e-47b4-883f-89d6128373dc",
   "metadata": {},
   "outputs": [
    {
     "data": {
      "text/html": [
       "<div>\n",
       "<style scoped>\n",
       "    .dataframe tbody tr th:only-of-type {\n",
       "        vertical-align: middle;\n",
       "    }\n",
       "\n",
       "    .dataframe tbody tr th {\n",
       "        vertical-align: top;\n",
       "    }\n",
       "\n",
       "    .dataframe thead th {\n",
       "        text-align: right;\n",
       "    }\n",
       "</style>\n",
       "<table border=\"1\" class=\"dataframe\">\n",
       "  <thead>\n",
       "    <tr style=\"text-align: right;\">\n",
       "      <th></th>\n",
       "      <th>사용일자</th>\n",
       "      <th>노선명</th>\n",
       "      <th>역명</th>\n",
       "      <th>승차총승객수</th>\n",
       "      <th>하차총승객수</th>\n",
       "      <th>등록일자</th>\n",
       "    </tr>\n",
       "  </thead>\n",
       "  <tbody>\n",
       "    <tr>\n",
       "      <th>0</th>\n",
       "      <td>20210801</td>\n",
       "      <td>중앙선</td>\n",
       "      <td>회기</td>\n",
       "      <td>10269</td>\n",
       "      <td>10305</td>\n",
       "      <td>20210804</td>\n",
       "    </tr>\n",
       "    <tr>\n",
       "      <th>1</th>\n",
       "      <td>20210801</td>\n",
       "      <td>일산선</td>\n",
       "      <td>마두</td>\n",
       "      <td>2306</td>\n",
       "      <td>2354</td>\n",
       "      <td>20210804</td>\n",
       "    </tr>\n",
       "    <tr>\n",
       "      <th>2</th>\n",
       "      <td>20210801</td>\n",
       "      <td>일산선</td>\n",
       "      <td>정발산</td>\n",
       "      <td>3334</td>\n",
       "      <td>3307</td>\n",
       "      <td>20210804</td>\n",
       "    </tr>\n",
       "    <tr>\n",
       "      <th>3</th>\n",
       "      <td>20210801</td>\n",
       "      <td>일산선</td>\n",
       "      <td>주엽</td>\n",
       "      <td>3047</td>\n",
       "      <td>3044</td>\n",
       "      <td>20210804</td>\n",
       "    </tr>\n",
       "    <tr>\n",
       "      <th>4</th>\n",
       "      <td>20210801</td>\n",
       "      <td>일산선</td>\n",
       "      <td>대화</td>\n",
       "      <td>4520</td>\n",
       "      <td>4151</td>\n",
       "      <td>20210804</td>\n",
       "    </tr>\n",
       "    <tr>\n",
       "      <th>5</th>\n",
       "      <td>20210801</td>\n",
       "      <td>장항선</td>\n",
       "      <td>봉명</td>\n",
       "      <td>369</td>\n",
       "      <td>369</td>\n",
       "      <td>20210804</td>\n",
       "    </tr>\n",
       "    <tr>\n",
       "      <th>6</th>\n",
       "      <td>20210801</td>\n",
       "      <td>장항선</td>\n",
       "      <td>쌍용(나사렛대)</td>\n",
       "      <td>801</td>\n",
       "      <td>787</td>\n",
       "      <td>20210804</td>\n",
       "    </tr>\n",
       "    <tr>\n",
       "      <th>7</th>\n",
       "      <td>20210801</td>\n",
       "      <td>장항선</td>\n",
       "      <td>아산</td>\n",
       "      <td>1950</td>\n",
       "      <td>1505</td>\n",
       "      <td>20210804</td>\n",
       "    </tr>\n",
       "    <tr>\n",
       "      <th>8</th>\n",
       "      <td>20210801</td>\n",
       "      <td>장항선</td>\n",
       "      <td>배방</td>\n",
       "      <td>554</td>\n",
       "      <td>614</td>\n",
       "      <td>20210804</td>\n",
       "    </tr>\n",
       "    <tr>\n",
       "      <th>9</th>\n",
       "      <td>20210801</td>\n",
       "      <td>장항선</td>\n",
       "      <td>온양온천</td>\n",
       "      <td>2468</td>\n",
       "      <td>2310</td>\n",
       "      <td>20210804</td>\n",
       "    </tr>\n",
       "  </tbody>\n",
       "</table>\n",
       "</div>"
      ],
      "text/plain": [
       "       사용일자  노선명        역명  승차총승객수  하차총승객수      등록일자\n",
       "0  20210801  중앙선        회기   10269   10305  20210804\n",
       "1  20210801  일산선        마두    2306    2354  20210804\n",
       "2  20210801  일산선       정발산    3334    3307  20210804\n",
       "3  20210801  일산선        주엽    3047    3044  20210804\n",
       "4  20210801  일산선        대화    4520    4151  20210804\n",
       "5  20210801  장항선        봉명     369     369  20210804\n",
       "6  20210801  장항선  쌍용(나사렛대)     801     787  20210804\n",
       "7  20210801  장항선        아산    1950    1505  20210804\n",
       "8  20210801  장항선        배방     554     614  20210804\n",
       "9  20210801  장항선      온양온천    2468    2310  20210804"
      ]
     },
     "execution_count": 65,
     "metadata": {},
     "output_type": "execute_result"
    }
   ],
   "source": [
    "df[0:10]"
   ]
  },
  {
   "cell_type": "code",
   "execution_count": 66,
   "id": "f04dcb58-9762-4e40-9e7c-720f16bd0fb5",
   "metadata": {},
   "outputs": [
    {
     "data": {
      "text/html": [
       "<div>\n",
       "<style scoped>\n",
       "    .dataframe tbody tr th:only-of-type {\n",
       "        vertical-align: middle;\n",
       "    }\n",
       "\n",
       "    .dataframe tbody tr th {\n",
       "        vertical-align: top;\n",
       "    }\n",
       "\n",
       "    .dataframe thead th {\n",
       "        text-align: right;\n",
       "    }\n",
       "</style>\n",
       "<table border=\"1\" class=\"dataframe\">\n",
       "  <thead>\n",
       "    <tr style=\"text-align: right;\">\n",
       "      <th></th>\n",
       "      <th>사용일자</th>\n",
       "      <th>노선명</th>\n",
       "      <th>역명</th>\n",
       "      <th>승차총승객수</th>\n",
       "      <th>하차총승객수</th>\n",
       "      <th>등록일자</th>\n",
       "    </tr>\n",
       "  </thead>\n",
       "  <tbody>\n",
       "    <tr>\n",
       "      <th>0</th>\n",
       "      <td>20210801</td>\n",
       "      <td>중앙선</td>\n",
       "      <td>회기</td>\n",
       "      <td>10269</td>\n",
       "      <td>10305</td>\n",
       "      <td>20210804</td>\n",
       "    </tr>\n",
       "    <tr>\n",
       "      <th>1</th>\n",
       "      <td>20210801</td>\n",
       "      <td>일산선</td>\n",
       "      <td>마두</td>\n",
       "      <td>2306</td>\n",
       "      <td>2354</td>\n",
       "      <td>20210804</td>\n",
       "    </tr>\n",
       "    <tr>\n",
       "      <th>2</th>\n",
       "      <td>20210801</td>\n",
       "      <td>일산선</td>\n",
       "      <td>정발산</td>\n",
       "      <td>3334</td>\n",
       "      <td>3307</td>\n",
       "      <td>20210804</td>\n",
       "    </tr>\n",
       "    <tr>\n",
       "      <th>3</th>\n",
       "      <td>20210801</td>\n",
       "      <td>일산선</td>\n",
       "      <td>주엽</td>\n",
       "      <td>3047</td>\n",
       "      <td>3044</td>\n",
       "      <td>20210804</td>\n",
       "    </tr>\n",
       "    <tr>\n",
       "      <th>4</th>\n",
       "      <td>20210801</td>\n",
       "      <td>일산선</td>\n",
       "      <td>대화</td>\n",
       "      <td>4520</td>\n",
       "      <td>4151</td>\n",
       "      <td>20210804</td>\n",
       "    </tr>\n",
       "    <tr>\n",
       "      <th>5</th>\n",
       "      <td>20210801</td>\n",
       "      <td>장항선</td>\n",
       "      <td>봉명</td>\n",
       "      <td>369</td>\n",
       "      <td>369</td>\n",
       "      <td>20210804</td>\n",
       "    </tr>\n",
       "    <tr>\n",
       "      <th>6</th>\n",
       "      <td>20210801</td>\n",
       "      <td>장항선</td>\n",
       "      <td>쌍용(나사렛대)</td>\n",
       "      <td>801</td>\n",
       "      <td>787</td>\n",
       "      <td>20210804</td>\n",
       "    </tr>\n",
       "    <tr>\n",
       "      <th>7</th>\n",
       "      <td>20210801</td>\n",
       "      <td>장항선</td>\n",
       "      <td>아산</td>\n",
       "      <td>1950</td>\n",
       "      <td>1505</td>\n",
       "      <td>20210804</td>\n",
       "    </tr>\n",
       "    <tr>\n",
       "      <th>8</th>\n",
       "      <td>20210801</td>\n",
       "      <td>장항선</td>\n",
       "      <td>배방</td>\n",
       "      <td>554</td>\n",
       "      <td>614</td>\n",
       "      <td>20210804</td>\n",
       "    </tr>\n",
       "    <tr>\n",
       "      <th>9</th>\n",
       "      <td>20210801</td>\n",
       "      <td>장항선</td>\n",
       "      <td>온양온천</td>\n",
       "      <td>2468</td>\n",
       "      <td>2310</td>\n",
       "      <td>20210804</td>\n",
       "    </tr>\n",
       "  </tbody>\n",
       "</table>\n",
       "</div>"
      ],
      "text/plain": [
       "       사용일자  노선명        역명  승차총승객수  하차총승객수      등록일자\n",
       "0  20210801  중앙선        회기   10269   10305  20210804\n",
       "1  20210801  일산선        마두    2306    2354  20210804\n",
       "2  20210801  일산선       정발산    3334    3307  20210804\n",
       "3  20210801  일산선        주엽    3047    3044  20210804\n",
       "4  20210801  일산선        대화    4520    4151  20210804\n",
       "5  20210801  장항선        봉명     369     369  20210804\n",
       "6  20210801  장항선  쌍용(나사렛대)     801     787  20210804\n",
       "7  20210801  장항선        아산    1950    1505  20210804\n",
       "8  20210801  장항선        배방     554     614  20210804\n",
       "9  20210801  장항선      온양온천    2468    2310  20210804"
      ]
     },
     "execution_count": 66,
     "metadata": {},
     "output_type": "execute_result"
    }
   ],
   "source": [
    "df.head(10)"
   ]
  },
  {
   "cell_type": "code",
   "execution_count": 67,
   "id": "dc2e0bd6-abea-40e0-9eb9-0c06faa7aa39",
   "metadata": {},
   "outputs": [
    {
     "data": {
      "text/plain": [
       "사용일자      20210801\n",
       "노선명            장항선\n",
       "역명              배방\n",
       "승차총승객수         554\n",
       "하차총승객수         614\n",
       "등록일자      20210804\n",
       "Name: 8, dtype: object"
      ]
     },
     "execution_count": 67,
     "metadata": {},
     "output_type": "execute_result"
    }
   ],
   "source": [
    "df.iloc[8]"
   ]
  },
  {
   "cell_type": "code",
   "execution_count": 68,
   "id": "bbefe82f-84dd-49ee-8e1a-ee5bf96b57aa",
   "metadata": {},
   "outputs": [
    {
     "data": {
      "text/html": [
       "<div>\n",
       "<style scoped>\n",
       "    .dataframe tbody tr th:only-of-type {\n",
       "        vertical-align: middle;\n",
       "    }\n",
       "\n",
       "    .dataframe tbody tr th {\n",
       "        vertical-align: top;\n",
       "    }\n",
       "\n",
       "    .dataframe thead th {\n",
       "        text-align: right;\n",
       "    }\n",
       "</style>\n",
       "<table border=\"1\" class=\"dataframe\">\n",
       "  <thead>\n",
       "    <tr style=\"text-align: right;\">\n",
       "      <th></th>\n",
       "      <th>노선명</th>\n",
       "      <th>역명</th>\n",
       "      <th>승차총승객수</th>\n",
       "      <th>하차총승객수</th>\n",
       "      <th>등록일자</th>\n",
       "    </tr>\n",
       "    <tr>\n",
       "      <th>사용일자</th>\n",
       "      <th></th>\n",
       "      <th></th>\n",
       "      <th></th>\n",
       "      <th></th>\n",
       "      <th></th>\n",
       "    </tr>\n",
       "  </thead>\n",
       "  <tbody>\n",
       "    <tr>\n",
       "      <th>20210801</th>\n",
       "      <td>중앙선</td>\n",
       "      <td>회기</td>\n",
       "      <td>10269</td>\n",
       "      <td>10305</td>\n",
       "      <td>20210804</td>\n",
       "    </tr>\n",
       "    <tr>\n",
       "      <th>20210801</th>\n",
       "      <td>일산선</td>\n",
       "      <td>마두</td>\n",
       "      <td>2306</td>\n",
       "      <td>2354</td>\n",
       "      <td>20210804</td>\n",
       "    </tr>\n",
       "    <tr>\n",
       "      <th>20210801</th>\n",
       "      <td>일산선</td>\n",
       "      <td>정발산</td>\n",
       "      <td>3334</td>\n",
       "      <td>3307</td>\n",
       "      <td>20210804</td>\n",
       "    </tr>\n",
       "  </tbody>\n",
       "</table>\n",
       "</div>"
      ],
      "text/plain": [
       "          노선명   역명  승차총승객수  하차총승객수      등록일자\n",
       "사용일자                                        \n",
       "20210801  중앙선   회기   10269   10305  20210804\n",
       "20210801  일산선   마두    2306    2354  20210804\n",
       "20210801  일산선  정발산    3334    3307  20210804"
      ]
     },
     "execution_count": 68,
     "metadata": {},
     "output_type": "execute_result"
    }
   ],
   "source": [
    "df2 = df.set_index('사용일자')\n",
    "df2.head(3)"
   ]
  },
  {
   "cell_type": "code",
   "execution_count": 69,
   "id": "6b98bec7-3837-4a7e-b0d8-a1fd1ab4a489",
   "metadata": {},
   "outputs": [
    {
     "data": {
      "text/plain": [
       "0        False\n",
       "1        False\n",
       "2        False\n",
       "3        False\n",
       "4        False\n",
       "         ...  \n",
       "18633    False\n",
       "18634    False\n",
       "18635    False\n",
       "18636    False\n",
       "18637    False\n",
       "Name: 노선명, Length: 18638, dtype: bool"
      ]
     },
     "execution_count": 69,
     "metadata": {},
     "output_type": "execute_result"
    }
   ],
   "source": [
    "df['노선명']=='2호선'"
   ]
  },
  {
   "cell_type": "code",
   "execution_count": 70,
   "id": "d5cd643b-c9df-49bd-882c-4110ac1dd6b6",
   "metadata": {},
   "outputs": [
    {
     "data": {
      "text/html": [
       "<div>\n",
       "<style scoped>\n",
       "    .dataframe tbody tr th:only-of-type {\n",
       "        vertical-align: middle;\n",
       "    }\n",
       "\n",
       "    .dataframe tbody tr th {\n",
       "        vertical-align: top;\n",
       "    }\n",
       "\n",
       "    .dataframe thead th {\n",
       "        text-align: right;\n",
       "    }\n",
       "</style>\n",
       "<table border=\"1\" class=\"dataframe\">\n",
       "  <thead>\n",
       "    <tr style=\"text-align: right;\">\n",
       "      <th></th>\n",
       "      <th>사용일자</th>\n",
       "      <th>노선명</th>\n",
       "      <th>역명</th>\n",
       "      <th>승차총승객수</th>\n",
       "      <th>하차총승객수</th>\n",
       "      <th>등록일자</th>\n",
       "    </tr>\n",
       "  </thead>\n",
       "  <tbody>\n",
       "    <tr>\n",
       "      <th>507</th>\n",
       "      <td>20210801</td>\n",
       "      <td>2호선</td>\n",
       "      <td>용두(동대문구청)</td>\n",
       "      <td>843</td>\n",
       "      <td>873</td>\n",
       "      <td>20210804</td>\n",
       "    </tr>\n",
       "    <tr>\n",
       "      <th>508</th>\n",
       "      <td>20210801</td>\n",
       "      <td>2호선</td>\n",
       "      <td>신정네거리</td>\n",
       "      <td>3578</td>\n",
       "      <td>3592</td>\n",
       "      <td>20210804</td>\n",
       "    </tr>\n",
       "    <tr>\n",
       "      <th>509</th>\n",
       "      <td>20210801</td>\n",
       "      <td>2호선</td>\n",
       "      <td>양천구청</td>\n",
       "      <td>2073</td>\n",
       "      <td>2174</td>\n",
       "      <td>20210804</td>\n",
       "    </tr>\n",
       "    <tr>\n",
       "      <th>510</th>\n",
       "      <td>20210801</td>\n",
       "      <td>2호선</td>\n",
       "      <td>도림천</td>\n",
       "      <td>328</td>\n",
       "      <td>341</td>\n",
       "      <td>20210804</td>\n",
       "    </tr>\n",
       "    <tr>\n",
       "      <th>511</th>\n",
       "      <td>20210801</td>\n",
       "      <td>2호선</td>\n",
       "      <td>신설동</td>\n",
       "      <td>1710</td>\n",
       "      <td>1912</td>\n",
       "      <td>20210804</td>\n",
       "    </tr>\n",
       "    <tr>\n",
       "      <th>...</th>\n",
       "      <td>...</td>\n",
       "      <td>...</td>\n",
       "      <td>...</td>\n",
       "      <td>...</td>\n",
       "      <td>...</td>\n",
       "      <td>...</td>\n",
       "    </tr>\n",
       "    <tr>\n",
       "      <th>18111</th>\n",
       "      <td>20210831</td>\n",
       "      <td>2호선</td>\n",
       "      <td>도림천</td>\n",
       "      <td>1319</td>\n",
       "      <td>1458</td>\n",
       "      <td>20210903</td>\n",
       "    </tr>\n",
       "    <tr>\n",
       "      <th>18112</th>\n",
       "      <td>20210831</td>\n",
       "      <td>2호선</td>\n",
       "      <td>양천구청</td>\n",
       "      <td>5920</td>\n",
       "      <td>6535</td>\n",
       "      <td>20210903</td>\n",
       "    </tr>\n",
       "    <tr>\n",
       "      <th>18113</th>\n",
       "      <td>20210831</td>\n",
       "      <td>2호선</td>\n",
       "      <td>신정네거리</td>\n",
       "      <td>9082</td>\n",
       "      <td>9757</td>\n",
       "      <td>20210903</td>\n",
       "    </tr>\n",
       "    <tr>\n",
       "      <th>18114</th>\n",
       "      <td>20210831</td>\n",
       "      <td>2호선</td>\n",
       "      <td>용두(동대문구청)</td>\n",
       "      <td>2072</td>\n",
       "      <td>2111</td>\n",
       "      <td>20210903</td>\n",
       "    </tr>\n",
       "    <tr>\n",
       "      <th>18615</th>\n",
       "      <td>20210831</td>\n",
       "      <td>2호선</td>\n",
       "      <td>아현</td>\n",
       "      <td>9617</td>\n",
       "      <td>9514</td>\n",
       "      <td>20210903</td>\n",
       "    </tr>\n",
       "  </tbody>\n",
       "</table>\n",
       "<p>1550 rows × 6 columns</p>\n",
       "</div>"
      ],
      "text/plain": [
       "           사용일자  노선명         역명  승차총승객수  하차총승객수      등록일자\n",
       "507    20210801  2호선  용두(동대문구청)     843     873  20210804\n",
       "508    20210801  2호선      신정네거리    3578    3592  20210804\n",
       "509    20210801  2호선       양천구청    2073    2174  20210804\n",
       "510    20210801  2호선        도림천     328     341  20210804\n",
       "511    20210801  2호선        신설동    1710    1912  20210804\n",
       "...         ...  ...        ...     ...     ...       ...\n",
       "18111  20210831  2호선        도림천    1319    1458  20210903\n",
       "18112  20210831  2호선       양천구청    5920    6535  20210903\n",
       "18113  20210831  2호선      신정네거리    9082    9757  20210903\n",
       "18114  20210831  2호선  용두(동대문구청)    2072    2111  20210903\n",
       "18615  20210831  2호선         아현    9617    9514  20210903\n",
       "\n",
       "[1550 rows x 6 columns]"
      ]
     },
     "execution_count": 70,
     "metadata": {},
     "output_type": "execute_result"
    }
   ],
   "source": [
    "df[df['노선명']=='2호선']"
   ]
  },
  {
   "cell_type": "code",
   "execution_count": 71,
   "id": "fe707e5d-e9f1-4d76-84f0-0ba59ae214c2",
   "metadata": {},
   "outputs": [
    {
     "data": {
      "text/html": [
       "<div>\n",
       "<style scoped>\n",
       "    .dataframe tbody tr th:only-of-type {\n",
       "        vertical-align: middle;\n",
       "    }\n",
       "\n",
       "    .dataframe tbody tr th {\n",
       "        vertical-align: top;\n",
       "    }\n",
       "\n",
       "    .dataframe thead th {\n",
       "        text-align: right;\n",
       "    }\n",
       "</style>\n",
       "<table border=\"1\" class=\"dataframe\">\n",
       "  <thead>\n",
       "    <tr style=\"text-align: right;\">\n",
       "      <th></th>\n",
       "      <th>사용일자</th>\n",
       "      <th>노선명</th>\n",
       "      <th>역명</th>\n",
       "      <th>승차총승객수</th>\n",
       "      <th>하차총승객수</th>\n",
       "      <th>등록일자</th>\n",
       "    </tr>\n",
       "  </thead>\n",
       "  <tbody>\n",
       "    <tr>\n",
       "      <th>1164</th>\n",
       "      <td>20210802</td>\n",
       "      <td>2호선</td>\n",
       "      <td>신림</td>\n",
       "      <td>51573</td>\n",
       "      <td>50148</td>\n",
       "      <td>20210805</td>\n",
       "    </tr>\n",
       "    <tr>\n",
       "      <th>1172</th>\n",
       "      <td>20210802</td>\n",
       "      <td>2호선</td>\n",
       "      <td>강남</td>\n",
       "      <td>70147</td>\n",
       "      <td>68166</td>\n",
       "      <td>20210805</td>\n",
       "    </tr>\n",
       "    <tr>\n",
       "      <th>1178</th>\n",
       "      <td>20210802</td>\n",
       "      <td>2호선</td>\n",
       "      <td>잠실(송파구청)</td>\n",
       "      <td>51592</td>\n",
       "      <td>51611</td>\n",
       "      <td>20210805</td>\n",
       "    </tr>\n",
       "    <tr>\n",
       "      <th>1265</th>\n",
       "      <td>20210803</td>\n",
       "      <td>2호선</td>\n",
       "      <td>잠실(송파구청)</td>\n",
       "      <td>53157</td>\n",
       "      <td>53003</td>\n",
       "      <td>20210806</td>\n",
       "    </tr>\n",
       "    <tr>\n",
       "      <th>1271</th>\n",
       "      <td>20210803</td>\n",
       "      <td>2호선</td>\n",
       "      <td>강남</td>\n",
       "      <td>70995</td>\n",
       "      <td>68779</td>\n",
       "      <td>20210806</td>\n",
       "    </tr>\n",
       "    <tr>\n",
       "      <th>...</th>\n",
       "      <td>...</td>\n",
       "      <td>...</td>\n",
       "      <td>...</td>\n",
       "      <td>...</td>\n",
       "      <td>...</td>\n",
       "      <td>...</td>\n",
       "    </tr>\n",
       "    <tr>\n",
       "      <th>18081</th>\n",
       "      <td>20210831</td>\n",
       "      <td>2호선</td>\n",
       "      <td>잠실(송파구청)</td>\n",
       "      <td>54107</td>\n",
       "      <td>53302</td>\n",
       "      <td>20210903</td>\n",
       "    </tr>\n",
       "    <tr>\n",
       "      <th>18085</th>\n",
       "      <td>20210831</td>\n",
       "      <td>2호선</td>\n",
       "      <td>선릉</td>\n",
       "      <td>50953</td>\n",
       "      <td>45109</td>\n",
       "      <td>20210903</td>\n",
       "    </tr>\n",
       "    <tr>\n",
       "      <th>18087</th>\n",
       "      <td>20210831</td>\n",
       "      <td>2호선</td>\n",
       "      <td>강남</td>\n",
       "      <td>71127</td>\n",
       "      <td>68437</td>\n",
       "      <td>20210903</td>\n",
       "    </tr>\n",
       "    <tr>\n",
       "      <th>18095</th>\n",
       "      <td>20210831</td>\n",
       "      <td>2호선</td>\n",
       "      <td>신림</td>\n",
       "      <td>55435</td>\n",
       "      <td>54928</td>\n",
       "      <td>20210903</td>\n",
       "    </tr>\n",
       "    <tr>\n",
       "      <th>18097</th>\n",
       "      <td>20210831</td>\n",
       "      <td>2호선</td>\n",
       "      <td>구로디지털단지</td>\n",
       "      <td>53717</td>\n",
       "      <td>54788</td>\n",
       "      <td>20210903</td>\n",
       "    </tr>\n",
       "  </tbody>\n",
       "</table>\n",
       "<p>98 rows × 6 columns</p>\n",
       "</div>"
      ],
      "text/plain": [
       "           사용일자  노선명        역명  승차총승객수  하차총승객수      등록일자\n",
       "1164   20210802  2호선        신림   51573   50148  20210805\n",
       "1172   20210802  2호선        강남   70147   68166  20210805\n",
       "1178   20210802  2호선  잠실(송파구청)   51592   51611  20210805\n",
       "1265   20210803  2호선  잠실(송파구청)   53157   53003  20210806\n",
       "1271   20210803  2호선        강남   70995   68779  20210806\n",
       "...         ...  ...       ...     ...     ...       ...\n",
       "18081  20210831  2호선  잠실(송파구청)   54107   53302  20210903\n",
       "18085  20210831  2호선        선릉   50953   45109  20210903\n",
       "18087  20210831  2호선        강남   71127   68437  20210903\n",
       "18095  20210831  2호선        신림   55435   54928  20210903\n",
       "18097  20210831  2호선   구로디지털단지   53717   54788  20210903\n",
       "\n",
       "[98 rows x 6 columns]"
      ]
     },
     "execution_count": 71,
     "metadata": {},
     "output_type": "execute_result"
    }
   ],
   "source": [
    "df[df['승차총승객수']>=50000]"
   ]
  },
  {
   "cell_type": "code",
   "execution_count": 72,
   "id": "f4a6f9a0-188b-46f8-b380-27336c240311",
   "metadata": {},
   "outputs": [
    {
     "data": {
      "text/plain": [
       "array(['신림', '강남', '잠실(송파구청)', '구로디지털단지', '선릉'], dtype=object)"
      ]
     },
     "execution_count": 72,
     "metadata": {},
     "output_type": "execute_result"
    }
   ],
   "source": [
    "df[df['승차총승객수']>50000]['역명'].unique()"
   ]
  },
  {
   "cell_type": "code",
   "execution_count": 73,
   "id": "1880692f-c58f-4137-887a-11f5f9582f80",
   "metadata": {},
   "outputs": [
    {
     "data": {
      "text/html": [
       "<div>\n",
       "<style scoped>\n",
       "    .dataframe tbody tr th:only-of-type {\n",
       "        vertical-align: middle;\n",
       "    }\n",
       "\n",
       "    .dataframe tbody tr th {\n",
       "        vertical-align: top;\n",
       "    }\n",
       "\n",
       "    .dataframe thead th {\n",
       "        text-align: right;\n",
       "    }\n",
       "</style>\n",
       "<table border=\"1\" class=\"dataframe\">\n",
       "  <thead>\n",
       "    <tr style=\"text-align: right;\">\n",
       "      <th></th>\n",
       "      <th>사용일자</th>\n",
       "      <th>노선명</th>\n",
       "      <th>역명</th>\n",
       "      <th>승차총승객수</th>\n",
       "      <th>하차총승객수</th>\n",
       "      <th>등록일자</th>\n",
       "      <th>승하차총승객수차이</th>\n",
       "    </tr>\n",
       "  </thead>\n",
       "  <tbody>\n",
       "    <tr>\n",
       "      <th>0</th>\n",
       "      <td>20210801</td>\n",
       "      <td>중앙선</td>\n",
       "      <td>회기</td>\n",
       "      <td>10269</td>\n",
       "      <td>10305</td>\n",
       "      <td>20210804</td>\n",
       "      <td>-36</td>\n",
       "    </tr>\n",
       "    <tr>\n",
       "      <th>1</th>\n",
       "      <td>20210801</td>\n",
       "      <td>일산선</td>\n",
       "      <td>마두</td>\n",
       "      <td>2306</td>\n",
       "      <td>2354</td>\n",
       "      <td>20210804</td>\n",
       "      <td>-48</td>\n",
       "    </tr>\n",
       "    <tr>\n",
       "      <th>2</th>\n",
       "      <td>20210801</td>\n",
       "      <td>일산선</td>\n",
       "      <td>정발산</td>\n",
       "      <td>3334</td>\n",
       "      <td>3307</td>\n",
       "      <td>20210804</td>\n",
       "      <td>27</td>\n",
       "    </tr>\n",
       "    <tr>\n",
       "      <th>3</th>\n",
       "      <td>20210801</td>\n",
       "      <td>일산선</td>\n",
       "      <td>주엽</td>\n",
       "      <td>3047</td>\n",
       "      <td>3044</td>\n",
       "      <td>20210804</td>\n",
       "      <td>3</td>\n",
       "    </tr>\n",
       "    <tr>\n",
       "      <th>4</th>\n",
       "      <td>20210801</td>\n",
       "      <td>일산선</td>\n",
       "      <td>대화</td>\n",
       "      <td>4520</td>\n",
       "      <td>4151</td>\n",
       "      <td>20210804</td>\n",
       "      <td>369</td>\n",
       "    </tr>\n",
       "  </tbody>\n",
       "</table>\n",
       "</div>"
      ],
      "text/plain": [
       "       사용일자  노선명   역명  승차총승객수  하차총승객수      등록일자  승하차총승객수차이\n",
       "0  20210801  중앙선   회기   10269   10305  20210804        -36\n",
       "1  20210801  일산선   마두    2306    2354  20210804        -48\n",
       "2  20210801  일산선  정발산    3334    3307  20210804         27\n",
       "3  20210801  일산선   주엽    3047    3044  20210804          3\n",
       "4  20210801  일산선   대화    4520    4151  20210804        369"
      ]
     },
     "execution_count": 73,
     "metadata": {},
     "output_type": "execute_result"
    }
   ],
   "source": [
    "df['승하차총승객수차이'] = df['승차총승객수'] - df['하차총승객수']\n",
    "df.head()"
   ]
  },
  {
   "cell_type": "code",
   "execution_count": 74,
   "id": "a9c814cc-f5d2-48fd-bbc1-1351c72581ff",
   "metadata": {},
   "outputs": [
    {
     "data": {
      "text/plain": [
       "28.841291984118467"
      ]
     },
     "execution_count": 74,
     "metadata": {},
     "output_type": "execute_result"
    }
   ],
   "source": [
    "df['승하차총승객수차이'].mean()"
   ]
  },
  {
   "cell_type": "code",
   "execution_count": 75,
   "id": "b6bdcdb9-eb29-4aa9-babf-c8f7b87c4069",
   "metadata": {},
   "outputs": [
    {
     "data": {
      "text/html": [
       "<div>\n",
       "<style scoped>\n",
       "    .dataframe tbody tr th:only-of-type {\n",
       "        vertical-align: middle;\n",
       "    }\n",
       "\n",
       "    .dataframe tbody tr th {\n",
       "        vertical-align: top;\n",
       "    }\n",
       "\n",
       "    .dataframe thead th {\n",
       "        text-align: right;\n",
       "    }\n",
       "</style>\n",
       "<table border=\"1\" class=\"dataframe\">\n",
       "  <thead>\n",
       "    <tr style=\"text-align: right;\">\n",
       "      <th></th>\n",
       "      <th>사용일자</th>\n",
       "      <th>노선명</th>\n",
       "      <th>역명</th>\n",
       "      <th>승차총승객수</th>\n",
       "      <th>하차총승객수</th>\n",
       "      <th>등록일자</th>\n",
       "      <th>승하차총승객수차이</th>\n",
       "    </tr>\n",
       "  </thead>\n",
       "  <tbody>\n",
       "    <tr>\n",
       "      <th>11746</th>\n",
       "      <td>20210820</td>\n",
       "      <td>경강선</td>\n",
       "      <td>부발</td>\n",
       "      <td>2176</td>\n",
       "      <td>1655</td>\n",
       "      <td>20210823</td>\n",
       "      <td>521</td>\n",
       "    </tr>\n",
       "    <tr>\n",
       "      <th>8959</th>\n",
       "      <td>20210815</td>\n",
       "      <td>2호선</td>\n",
       "      <td>이대</td>\n",
       "      <td>4901</td>\n",
       "      <td>5288</td>\n",
       "      <td>20210818</td>\n",
       "      <td>-387</td>\n",
       "    </tr>\n",
       "    <tr>\n",
       "      <th>13620</th>\n",
       "      <td>20210823</td>\n",
       "      <td>경의선</td>\n",
       "      <td>금릉</td>\n",
       "      <td>4199</td>\n",
       "      <td>3973</td>\n",
       "      <td>20210826</td>\n",
       "      <td>226</td>\n",
       "    </tr>\n",
       "    <tr>\n",
       "      <th>17396</th>\n",
       "      <td>20210829</td>\n",
       "      <td>분당선</td>\n",
       "      <td>서현</td>\n",
       "      <td>11213</td>\n",
       "      <td>11378</td>\n",
       "      <td>20210901</td>\n",
       "      <td>-165</td>\n",
       "    </tr>\n",
       "    <tr>\n",
       "      <th>6572</th>\n",
       "      <td>20210811</td>\n",
       "      <td>일산선</td>\n",
       "      <td>삼송</td>\n",
       "      <td>16438</td>\n",
       "      <td>16198</td>\n",
       "      <td>20210814</td>\n",
       "      <td>240</td>\n",
       "    </tr>\n",
       "    <tr>\n",
       "      <th>4228</th>\n",
       "      <td>20210808</td>\n",
       "      <td>장항선</td>\n",
       "      <td>아산</td>\n",
       "      <td>2081</td>\n",
       "      <td>1378</td>\n",
       "      <td>20210811</td>\n",
       "      <td>703</td>\n",
       "    </tr>\n",
       "    <tr>\n",
       "      <th>18584</th>\n",
       "      <td>20210831</td>\n",
       "      <td>수인선</td>\n",
       "      <td>남동인더스파크</td>\n",
       "      <td>2208</td>\n",
       "      <td>2515</td>\n",
       "      <td>20210903</td>\n",
       "      <td>-307</td>\n",
       "    </tr>\n",
       "    <tr>\n",
       "      <th>4100</th>\n",
       "      <td>20210807</td>\n",
       "      <td>경춘선</td>\n",
       "      <td>굴봉산</td>\n",
       "      <td>209</td>\n",
       "      <td>196</td>\n",
       "      <td>20210810</td>\n",
       "      <td>13</td>\n",
       "    </tr>\n",
       "    <tr>\n",
       "      <th>6075</th>\n",
       "      <td>20210811</td>\n",
       "      <td>3호선</td>\n",
       "      <td>무악재</td>\n",
       "      <td>3524</td>\n",
       "      <td>3530</td>\n",
       "      <td>20210814</td>\n",
       "      <td>-6</td>\n",
       "    </tr>\n",
       "    <tr>\n",
       "      <th>17241</th>\n",
       "      <td>20210829</td>\n",
       "      <td>경부선</td>\n",
       "      <td>금정</td>\n",
       "      <td>11095</td>\n",
       "      <td>11513</td>\n",
       "      <td>20210901</td>\n",
       "      <td>-418</td>\n",
       "    </tr>\n",
       "  </tbody>\n",
       "</table>\n",
       "</div>"
      ],
      "text/plain": [
       "           사용일자  노선명       역명  승차총승객수  하차총승객수      등록일자  승하차총승객수차이\n",
       "11746  20210820  경강선       부발    2176    1655  20210823        521\n",
       "8959   20210815  2호선       이대    4901    5288  20210818       -387\n",
       "13620  20210823  경의선       금릉    4199    3973  20210826        226\n",
       "17396  20210829  분당선       서현   11213   11378  20210901       -165\n",
       "6572   20210811  일산선       삼송   16438   16198  20210814        240\n",
       "4228   20210808  장항선       아산    2081    1378  20210811        703\n",
       "18584  20210831  수인선  남동인더스파크    2208    2515  20210903       -307\n",
       "4100   20210807  경춘선      굴봉산     209     196  20210810         13\n",
       "6075   20210811  3호선      무악재    3524    3530  20210814         -6\n",
       "17241  20210829  경부선       금정   11095   11513  20210901       -418"
      ]
     },
     "execution_count": 75,
     "metadata": {},
     "output_type": "execute_result"
    }
   ],
   "source": [
    "sample_df=df.sample(n=10)\n",
    "sample_df"
   ]
  },
  {
   "cell_type": "code",
   "execution_count": 77,
   "id": "98eae9a5-da9a-4b9b-8753-894040ba1968",
   "metadata": {},
   "outputs": [
    {
     "data": {
      "text/html": [
       "<div>\n",
       "<style scoped>\n",
       "    .dataframe tbody tr th:only-of-type {\n",
       "        vertical-align: middle;\n",
       "    }\n",
       "\n",
       "    .dataframe tbody tr th {\n",
       "        vertical-align: top;\n",
       "    }\n",
       "\n",
       "    .dataframe thead th {\n",
       "        text-align: right;\n",
       "    }\n",
       "</style>\n",
       "<table border=\"1\" class=\"dataframe\">\n",
       "  <thead>\n",
       "    <tr style=\"text-align: right;\">\n",
       "      <th></th>\n",
       "      <th>사용일자</th>\n",
       "      <th>노선명</th>\n",
       "      <th>역명</th>\n",
       "      <th>승차총승객수</th>\n",
       "      <th>하차총승객수</th>\n",
       "      <th>등록일자</th>\n",
       "      <th>승하차총승객수차이</th>\n",
       "    </tr>\n",
       "  </thead>\n",
       "  <tbody>\n",
       "    <tr>\n",
       "      <th>8845</th>\n",
       "      <td>20210815</td>\n",
       "      <td>5호선</td>\n",
       "      <td>올림픽공원(한국체대)</td>\n",
       "      <td>1765</td>\n",
       "      <td>1509</td>\n",
       "      <td>20210818</td>\n",
       "      <td>256</td>\n",
       "    </tr>\n",
       "    <tr>\n",
       "      <th>3599</th>\n",
       "      <td>20210806</td>\n",
       "      <td>수인선</td>\n",
       "      <td>송도</td>\n",
       "      <td>1919</td>\n",
       "      <td>1796</td>\n",
       "      <td>20210809</td>\n",
       "      <td>123</td>\n",
       "    </tr>\n",
       "    <tr>\n",
       "      <th>1675</th>\n",
       "      <td>20210803</td>\n",
       "      <td>경인선</td>\n",
       "      <td>부개</td>\n",
       "      <td>6718</td>\n",
       "      <td>6353</td>\n",
       "      <td>20210806</td>\n",
       "      <td>365</td>\n",
       "    </tr>\n",
       "    <tr>\n",
       "      <th>12008</th>\n",
       "      <td>20210820</td>\n",
       "      <td>중앙선</td>\n",
       "      <td>팔당</td>\n",
       "      <td>871</td>\n",
       "      <td>897</td>\n",
       "      <td>20210823</td>\n",
       "      <td>-26</td>\n",
       "    </tr>\n",
       "    <tr>\n",
       "      <th>2341</th>\n",
       "      <td>20210804</td>\n",
       "      <td>경원선</td>\n",
       "      <td>덕정</td>\n",
       "      <td>4157</td>\n",
       "      <td>4070</td>\n",
       "      <td>20210807</td>\n",
       "      <td>87</td>\n",
       "    </tr>\n",
       "    <tr>\n",
       "      <th>3200</th>\n",
       "      <td>20210806</td>\n",
       "      <td>경인선</td>\n",
       "      <td>동암</td>\n",
       "      <td>12835</td>\n",
       "      <td>13086</td>\n",
       "      <td>20210809</td>\n",
       "      <td>-251</td>\n",
       "    </tr>\n",
       "    <tr>\n",
       "      <th>16946</th>\n",
       "      <td>20210829</td>\n",
       "      <td>2호선</td>\n",
       "      <td>이대</td>\n",
       "      <td>6135</td>\n",
       "      <td>6548</td>\n",
       "      <td>20210901</td>\n",
       "      <td>-413</td>\n",
       "    </tr>\n",
       "    <tr>\n",
       "      <th>12107</th>\n",
       "      <td>20210821</td>\n",
       "      <td>분당선</td>\n",
       "      <td>선릉</td>\n",
       "      <td>3897</td>\n",
       "      <td>5787</td>\n",
       "      <td>20210824</td>\n",
       "      <td>-1890</td>\n",
       "    </tr>\n",
       "    <tr>\n",
       "      <th>2548</th>\n",
       "      <td>20210805</td>\n",
       "      <td>4호선</td>\n",
       "      <td>동대문역사문화공원(DDP)</td>\n",
       "      <td>12696</td>\n",
       "      <td>11781</td>\n",
       "      <td>20210808</td>\n",
       "      <td>915</td>\n",
       "    </tr>\n",
       "    <tr>\n",
       "      <th>2297</th>\n",
       "      <td>20210804</td>\n",
       "      <td>경부선</td>\n",
       "      <td>화서</td>\n",
       "      <td>5746</td>\n",
       "      <td>5613</td>\n",
       "      <td>20210807</td>\n",
       "      <td>133</td>\n",
       "    </tr>\n",
       "  </tbody>\n",
       "</table>\n",
       "</div>"
      ],
      "text/plain": [
       "           사용일자  노선명              역명  승차총승객수  하차총승객수      등록일자  승하차총승객수차이\n",
       "8845   20210815  5호선     올림픽공원(한국체대)    1765    1509  20210818        256\n",
       "3599   20210806  수인선              송도    1919    1796  20210809        123\n",
       "1675   20210803  경인선              부개    6718    6353  20210806        365\n",
       "12008  20210820  중앙선              팔당     871     897  20210823        -26\n",
       "2341   20210804  경원선              덕정    4157    4070  20210807         87\n",
       "3200   20210806  경인선              동암   12835   13086  20210809       -251\n",
       "16946  20210829  2호선              이대    6135    6548  20210901       -413\n",
       "12107  20210821  분당선              선릉    3897    5787  20210824      -1890\n",
       "2548   20210805  4호선  동대문역사문화공원(DDP)   12696   11781  20210808        915\n",
       "2297   20210804  경부선              화서    5746    5613  20210807        133"
      ]
     },
     "execution_count": 77,
     "metadata": {},
     "output_type": "execute_result"
    }
   ],
   "source": [
    "sample_df=df.sample(n=10)\n",
    "sample_df"
   ]
  },
  {
   "cell_type": "code",
   "execution_count": 78,
   "id": "1d87719d-4474-424f-9013-1ed5e127657f",
   "metadata": {},
   "outputs": [
    {
     "data": {
      "text/plain": [
       "8845       5호선\n",
       "3599       수인선\n",
       "1675       경인선\n",
       "12008      중앙선\n",
       "2341       경원선\n",
       "3200       경인선\n",
       "16946    line2\n",
       "12107      분당선\n",
       "2548     line4\n",
       "2297       경부선\n",
       "Name: 노선명, dtype: object"
      ]
     },
     "execution_count": 78,
     "metadata": {},
     "output_type": "execute_result"
    }
   ],
   "source": [
    "sample_df['노선명'].replace(['1호선', '2호선', '3호선', '4호선'],\n",
    "                        ['line1', 'line2', 'line3', 'line4'])"
   ]
  },
  {
   "cell_type": "code",
   "execution_count": null,
   "id": "cea38054-9bb1-4dae-8b04-29e5933fbcaa",
   "metadata": {},
   "outputs": [],
   "source": [
    "import numpy\n",
    "import pandas\n",
    "import matplotlib.pyplot\n",
    "import seaborn\n",
    "from sklearn.model_selsection import train_test_split"
   ]
  },
  {
   "cell_type": "code",
   "execution_count": null,
   "id": "eb26a6ea-e9e3-4364-9115-43c124e33368",
   "metadata": {},
   "outputs": [],
   "source": []
  }
 ],
 "metadata": {
  "kernelspec": {
   "display_name": "Python 3",
   "language": "python",
   "name": "python3"
  },
  "language_info": {
   "codemirror_mode": {
    "name": "ipython",
    "version": 3
   },
   "file_extension": ".py",
   "mimetype": "text/x-python",
   "name": "python",
   "nbconvert_exporter": "python",
   "pygments_lexer": "ipython3",
   "version": "3.8.8"
  }
 },
 "nbformat": 4,
 "nbformat_minor": 5
}
